{
 "cells": [
  {
   "cell_type": "code",
   "execution_count": 3,
   "metadata": {},
   "outputs": [],
   "source": [
    "import torch\n",
    "import time\n",
    "import srcnn\n",
    "import torch.optim as optim\n",
    "import torch.nn as nn\n",
    "import os\n",
    "import argparse\n",
    "\n",
    "from tqdm import tqdm\n",
    "from datasets import get_datasets, get_dataloaders\n",
    "from utils import (\n",
    "    psnr, save_model, save_model_state, \n",
    "    save_plot, save_validation_results\n",
    ")\n",
    "\n",
    "os.environ['KMP_DUPLICATE_LIB_OK'] = 'True'"
   ]
  },
  {
   "cell_type": "code",
   "execution_count": 8,
   "metadata": {},
   "outputs": [
    {
     "name": "stdout",
     "output_type": "stream",
     "text": [
      "Computation device:  cuda\n",
      "SRCNN(\n",
      "  (conv1): Conv2d(3, 64, kernel_size=(9, 9), stride=(1, 1), padding=(2, 2))\n",
      "  (conv2): Conv2d(64, 32, kernel_size=(1, 1), stride=(1, 1), padding=(2, 2))\n",
      "  (conv3): Conv2d(32, 3, kernel_size=(5, 5), stride=(1, 1), padding=(2, 2))\n",
      ")\n",
      "Training samples: 22227\n",
      "Validation samples: 14\n"
     ]
    }
   ],
   "source": [
    "parser = argparse.ArgumentParser()\n",
    "parser.add_argument(\n",
    "    '-e', '--epochs', default=100, type=int,\n",
    "    help='number of epochs to train for'\n",
    ")\n",
    "parser.add_argument(\n",
    "    '-w', '--weights', default=None,\n",
    "    help='weights/checkpoint path to resume training'\n",
    ")\n",
    "\n",
    "args, unknown = parser.parse_known_args()\n",
    "args = vars(args)\n",
    "# Learning parameters.\n",
    "epochs = args['epochs'] # Number of epochs to train the SRCNN model for.\n",
    "lr = 0.001 # Learning rate.\n",
    "device = 'cuda' if torch.cuda.is_available() else 'cpu'\n",
    "\n",
    "# Constants\n",
    "TRAIN_LABEL_PATHS = '../input/t91_hr_patches'\n",
    "TRAN_IMAGE_PATHS = '../input/t91_lr_patches'\n",
    "VALID_LABEL_PATHS = '../input/test_hr'\n",
    "VALID_IMAGE_PATHS = '../input/test_bicubic_rgb_2x'\n",
    "SAVE_VALIDATION_RESULTS = True\n",
    "\n",
    "os.makedirs('../outputs/valid_results', exist_ok=True)\n",
    "\n",
    "# Initialize the model.\n",
    "print('Computation device: ', device)\n",
    "model = srcnn.SRCNN().to(device)\n",
    "if args['weights'] is not None:\n",
    "    print('Loading weights to resume training...')\n",
    "    checkpoint = torch.load(args['weights'])\n",
    "    model.load_state_dict(checkpoint['model_state_dict'])\n",
    "print(model)\n",
    "\n",
    "# Optimizer.\n",
    "optimizer = optim.Adam(model.parameters(), lr=lr)\n",
    "# Loss function. \n",
    "criterion = nn.MSELoss()\n",
    "\n",
    "dataset_train, dataset_valid = get_datasets(\n",
    "    TRAN_IMAGE_PATHS, TRAIN_LABEL_PATHS,\n",
    "    VALID_IMAGE_PATHS, VALID_LABEL_PATHS\n",
    ")\n",
    "train_loader, valid_loader = get_dataloaders(dataset_train, dataset_valid)\n",
    "\n",
    "print(f\"Training samples: {len(dataset_train)}\")\n",
    "print(f\"Validation samples: {len(dataset_valid)}\")\n",
    "\n",
    "def train(model, dataloader):\n",
    "    model.train()\n",
    "    running_loss = 0.0\n",
    "    running_psnr = 0.0\n",
    "    for bi, data in tqdm(enumerate(dataloader), total=len(dataloader)):\n",
    "        image_data = data[0].to(device)\n",
    "        label = data[1].to(device)\n",
    "        \n",
    "        # Zero grad the optimizer.\n",
    "        optimizer.zero_grad()\n",
    "        outputs = model(image_data)\n",
    "        loss = criterion(outputs, label)\n",
    "\n",
    "        # Backpropagation.\n",
    "        loss.backward()\n",
    "        # Update the parameters.\n",
    "        optimizer.step()\n",
    "\n",
    "        # Add loss of each item (total items in a batch = batch size).\n",
    "        running_loss += loss.item()\n",
    "        # Calculate batch psnr (once every `batch_size` iterations).\n",
    "        batch_psnr =  psnr(label, outputs)\n",
    "        running_psnr += batch_psnr\n",
    "\n",
    "    final_loss = running_loss/len(dataloader.dataset)\n",
    "    final_psnr = running_psnr/len(dataloader)\n",
    "    return final_loss, final_psnr\n",
    "\n",
    "\n",
    "def validate(model, dataloader, epoch):\n",
    "    model.eval()\n",
    "    running_loss = 0.0\n",
    "    running_psnr = 0.0\n",
    "    with torch.no_grad():\n",
    "        for bi, data in tqdm(enumerate(dataloader), total=len(dataloader)):\n",
    "            image_data = data[0].to(device)\n",
    "            label = data[1].to(device)\n",
    "            \n",
    "            outputs = model(image_data)\n",
    "            loss = criterion(outputs, label)\n",
    "\n",
    "            # Add loss of each item (total items in a batch = batch size) .\n",
    "            running_loss += loss.item()\n",
    "            # Calculate batch psnr (once every `batch_size` iterations).\n",
    "            batch_psnr = psnr(label, outputs)\n",
    "            running_psnr += batch_psnr\n",
    "\n",
    "            # For saving the batch samples for the validation results\n",
    "            # every 500 epochs.\n",
    "            if SAVE_VALIDATION_RESULTS and (epoch % 500) == 0:\n",
    "                save_validation_results(outputs, epoch, bi)\n",
    "\n",
    "    final_loss = running_loss/len(dataloader.dataset)\n",
    "    final_psnr = running_psnr/len(dataloader)\n",
    "    return final_loss, final_psnr\n"
   ]
  },
  {
   "cell_type": "code",
   "execution_count": 9,
   "metadata": {},
   "outputs": [
    {
     "name": "stdout",
     "output_type": "stream",
     "text": [
      "Epoch 1 of 100\n"
     ]
    },
    {
     "name": "stderr",
     "output_type": "stream",
     "text": [
      "100%|██████████| 174/174 [00:06<00:00, 28.88it/s]\n",
      "100%|██████████| 14/14 [00:00<00:00, 46.76it/s]\n"
     ]
    },
    {
     "name": "stdout",
     "output_type": "stream",
     "text": [
      "Train PSNR: 18.009\n",
      "Val PSNR: 24.217\n",
      "Saving model...\n",
      "Epoch 2 of 100\n"
     ]
    },
    {
     "name": "stderr",
     "output_type": "stream",
     "text": [
      "100%|██████████| 174/174 [00:06<00:00, 28.54it/s]\n",
      "100%|██████████| 14/14 [00:00<00:00, 46.18it/s]\n"
     ]
    },
    {
     "name": "stdout",
     "output_type": "stream",
     "text": [
      "Train PSNR: 21.820\n",
      "Val PSNR: 25.386\n",
      "Saving model...\n",
      "Epoch 3 of 100\n"
     ]
    },
    {
     "name": "stderr",
     "output_type": "stream",
     "text": [
      "100%|██████████| 174/174 [00:06<00:00, 28.72it/s]\n",
      "100%|██████████| 14/14 [00:00<00:00, 43.61it/s]\n"
     ]
    },
    {
     "name": "stdout",
     "output_type": "stream",
     "text": [
      "Train PSNR: 23.435\n",
      "Val PSNR: 26.213\n",
      "Saving model...\n",
      "Epoch 4 of 100\n"
     ]
    },
    {
     "name": "stderr",
     "output_type": "stream",
     "text": [
      "100%|██████████| 174/174 [00:06<00:00, 26.38it/s]\n",
      "100%|██████████| 14/14 [00:00<00:00, 53.80it/s]\n"
     ]
    },
    {
     "name": "stdout",
     "output_type": "stream",
     "text": [
      "Train PSNR: 24.412\n",
      "Val PSNR: 25.486\n",
      "Saving model...\n",
      "Epoch 5 of 100\n"
     ]
    },
    {
     "name": "stderr",
     "output_type": "stream",
     "text": [
      "100%|██████████| 174/174 [00:06<00:00, 27.13it/s]\n",
      "100%|██████████| 14/14 [00:00<00:00, 42.88it/s]\n"
     ]
    },
    {
     "name": "stdout",
     "output_type": "stream",
     "text": [
      "Train PSNR: 25.093\n",
      "Val PSNR: 26.381\n",
      "Saving model...\n",
      "Epoch 6 of 100\n"
     ]
    },
    {
     "name": "stderr",
     "output_type": "stream",
     "text": [
      "100%|██████████| 174/174 [00:06<00:00, 27.37it/s]\n",
      "100%|██████████| 14/14 [00:00<00:00, 43.37it/s]\n"
     ]
    },
    {
     "name": "stdout",
     "output_type": "stream",
     "text": [
      "Train PSNR: 25.534\n",
      "Val PSNR: 26.876\n",
      "Saving model...\n",
      "Epoch 7 of 100\n"
     ]
    },
    {
     "name": "stderr",
     "output_type": "stream",
     "text": [
      "100%|██████████| 174/174 [00:06<00:00, 26.63it/s]\n",
      "100%|██████████| 14/14 [00:00<00:00, 48.25it/s]\n"
     ]
    },
    {
     "name": "stdout",
     "output_type": "stream",
     "text": [
      "Train PSNR: 25.979\n",
      "Val PSNR: 27.320\n",
      "Saving model...\n",
      "Epoch 8 of 100\n"
     ]
    },
    {
     "name": "stderr",
     "output_type": "stream",
     "text": [
      "100%|██████████| 174/174 [00:06<00:00, 26.56it/s]\n",
      "100%|██████████| 14/14 [00:00<00:00, 39.65it/s]\n"
     ]
    },
    {
     "name": "stdout",
     "output_type": "stream",
     "text": [
      "Train PSNR: 26.147\n",
      "Val PSNR: 26.752\n",
      "Saving model...\n",
      "Epoch 9 of 100\n"
     ]
    },
    {
     "name": "stderr",
     "output_type": "stream",
     "text": [
      "100%|██████████| 174/174 [00:06<00:00, 27.14it/s]\n",
      "100%|██████████| 14/14 [00:00<00:00, 48.65it/s]\n"
     ]
    },
    {
     "name": "stdout",
     "output_type": "stream",
     "text": [
      "Train PSNR: 26.498\n",
      "Val PSNR: 26.296\n",
      "Saving model...\n",
      "Epoch 10 of 100\n"
     ]
    },
    {
     "name": "stderr",
     "output_type": "stream",
     "text": [
      "100%|██████████| 174/174 [00:06<00:00, 24.89it/s]\n",
      "100%|██████████| 14/14 [00:00<00:00, 42.19it/s]\n"
     ]
    },
    {
     "name": "stdout",
     "output_type": "stream",
     "text": [
      "Train PSNR: 26.772\n",
      "Val PSNR: 27.478\n",
      "Saving model...\n",
      "Epoch 11 of 100\n"
     ]
    },
    {
     "name": "stderr",
     "output_type": "stream",
     "text": [
      "100%|██████████| 174/174 [00:06<00:00, 27.91it/s]\n",
      "100%|██████████| 14/14 [00:00<00:00, 44.17it/s]\n"
     ]
    },
    {
     "name": "stdout",
     "output_type": "stream",
     "text": [
      "Train PSNR: 26.854\n",
      "Val PSNR: 27.218\n",
      "Saving model...\n",
      "Epoch 12 of 100\n"
     ]
    },
    {
     "name": "stderr",
     "output_type": "stream",
     "text": [
      "100%|██████████| 174/174 [00:06<00:00, 27.09it/s]\n",
      "100%|██████████| 14/14 [00:00<00:00, 45.55it/s]\n"
     ]
    },
    {
     "name": "stdout",
     "output_type": "stream",
     "text": [
      "Train PSNR: 26.830\n",
      "Val PSNR: 27.662\n",
      "Saving model...\n",
      "Epoch 13 of 100\n"
     ]
    },
    {
     "name": "stderr",
     "output_type": "stream",
     "text": [
      "100%|██████████| 174/174 [00:06<00:00, 26.14it/s]\n",
      "100%|██████████| 14/14 [00:00<00:00, 53.61it/s]\n"
     ]
    },
    {
     "name": "stdout",
     "output_type": "stream",
     "text": [
      "Train PSNR: 27.249\n",
      "Val PSNR: 27.559\n",
      "Saving model...\n",
      "Epoch 14 of 100\n"
     ]
    },
    {
     "name": "stderr",
     "output_type": "stream",
     "text": [
      "100%|██████████| 174/174 [00:06<00:00, 27.93it/s]\n",
      "100%|██████████| 14/14 [00:00<00:00, 41.92it/s]\n"
     ]
    },
    {
     "name": "stdout",
     "output_type": "stream",
     "text": [
      "Train PSNR: 27.172\n",
      "Val PSNR: 27.706\n",
      "Saving model...\n",
      "Epoch 15 of 100\n"
     ]
    },
    {
     "name": "stderr",
     "output_type": "stream",
     "text": [
      "100%|██████████| 174/174 [00:06<00:00, 28.71it/s]\n",
      "100%|██████████| 14/14 [00:00<00:00, 45.95it/s]\n"
     ]
    },
    {
     "name": "stdout",
     "output_type": "stream",
     "text": [
      "Train PSNR: 27.359\n",
      "Val PSNR: 27.782\n",
      "Saving model...\n",
      "Epoch 16 of 100\n"
     ]
    },
    {
     "name": "stderr",
     "output_type": "stream",
     "text": [
      "100%|██████████| 174/174 [00:06<00:00, 27.24it/s]\n",
      "100%|██████████| 14/14 [00:00<00:00, 46.19it/s]\n"
     ]
    },
    {
     "name": "stdout",
     "output_type": "stream",
     "text": [
      "Train PSNR: 27.296\n",
      "Val PSNR: 27.420\n",
      "Saving model...\n",
      "Epoch 17 of 100\n"
     ]
    },
    {
     "name": "stderr",
     "output_type": "stream",
     "text": [
      "100%|██████████| 174/174 [00:06<00:00, 25.75it/s]\n",
      "100%|██████████| 14/14 [00:00<00:00, 53.65it/s]\n"
     ]
    },
    {
     "name": "stdout",
     "output_type": "stream",
     "text": [
      "Train PSNR: 27.557\n",
      "Val PSNR: 27.565\n",
      "Saving model...\n",
      "Epoch 18 of 100\n"
     ]
    },
    {
     "name": "stderr",
     "output_type": "stream",
     "text": [
      "100%|██████████| 174/174 [00:06<00:00, 28.22it/s]\n",
      "100%|██████████| 14/14 [00:00<00:00, 42.94it/s]\n"
     ]
    },
    {
     "name": "stdout",
     "output_type": "stream",
     "text": [
      "Train PSNR: 27.548\n",
      "Val PSNR: 27.773\n",
      "Saving model...\n",
      "Epoch 19 of 100\n"
     ]
    },
    {
     "name": "stderr",
     "output_type": "stream",
     "text": [
      "100%|██████████| 174/174 [00:06<00:00, 27.85it/s]\n",
      "100%|██████████| 14/14 [00:00<00:00, 46.64it/s]\n"
     ]
    },
    {
     "name": "stdout",
     "output_type": "stream",
     "text": [
      "Train PSNR: 27.718\n",
      "Val PSNR: 27.670\n",
      "Saving model...\n",
      "Epoch 20 of 100\n"
     ]
    },
    {
     "name": "stderr",
     "output_type": "stream",
     "text": [
      "100%|██████████| 174/174 [00:06<00:00, 26.02it/s]\n",
      "100%|██████████| 14/14 [00:00<00:00, 53.98it/s]\n"
     ]
    },
    {
     "name": "stdout",
     "output_type": "stream",
     "text": [
      "Train PSNR: 27.684\n",
      "Val PSNR: 27.905\n",
      "Saving model...\n",
      "Epoch 21 of 100\n"
     ]
    },
    {
     "name": "stderr",
     "output_type": "stream",
     "text": [
      "100%|██████████| 174/174 [00:06<00:00, 27.07it/s]\n",
      "100%|██████████| 14/14 [00:00<00:00, 42.56it/s]\n"
     ]
    },
    {
     "name": "stdout",
     "output_type": "stream",
     "text": [
      "Train PSNR: 27.782\n",
      "Val PSNR: 27.903\n",
      "Saving model...\n",
      "Epoch 22 of 100\n"
     ]
    },
    {
     "name": "stderr",
     "output_type": "stream",
     "text": [
      "100%|██████████| 174/174 [00:06<00:00, 28.00it/s]\n",
      "100%|██████████| 14/14 [00:00<00:00, 43.41it/s]\n"
     ]
    },
    {
     "name": "stdout",
     "output_type": "stream",
     "text": [
      "Train PSNR: 27.911\n",
      "Val PSNR: 27.982\n",
      "Saving model...\n",
      "Epoch 23 of 100\n"
     ]
    },
    {
     "name": "stderr",
     "output_type": "stream",
     "text": [
      "100%|██████████| 174/174 [00:06<00:00, 26.62it/s]\n",
      "100%|██████████| 14/14 [00:00<00:00, 46.65it/s]\n"
     ]
    },
    {
     "name": "stdout",
     "output_type": "stream",
     "text": [
      "Train PSNR: 27.966\n",
      "Val PSNR: 28.011\n",
      "Saving model...\n",
      "Epoch 24 of 100\n"
     ]
    },
    {
     "name": "stderr",
     "output_type": "stream",
     "text": [
      "100%|██████████| 174/174 [00:06<00:00, 26.22it/s]\n",
      "100%|██████████| 14/14 [00:00<00:00, 54.72it/s]\n"
     ]
    },
    {
     "name": "stdout",
     "output_type": "stream",
     "text": [
      "Train PSNR: 27.991\n",
      "Val PSNR: 27.699\n",
      "Saving model...\n",
      "Epoch 25 of 100\n"
     ]
    },
    {
     "name": "stderr",
     "output_type": "stream",
     "text": [
      "100%|██████████| 174/174 [00:06<00:00, 28.44it/s]\n",
      "100%|██████████| 14/14 [00:00<00:00, 42.29it/s]\n"
     ]
    },
    {
     "name": "stdout",
     "output_type": "stream",
     "text": [
      "Train PSNR: 27.975\n",
      "Val PSNR: 27.924\n",
      "Saving model...\n",
      "Epoch 26 of 100\n"
     ]
    },
    {
     "name": "stderr",
     "output_type": "stream",
     "text": [
      "100%|██████████| 174/174 [00:06<00:00, 27.83it/s]\n",
      "100%|██████████| 14/14 [00:00<00:00, 44.42it/s]\n"
     ]
    },
    {
     "name": "stdout",
     "output_type": "stream",
     "text": [
      "Train PSNR: 28.014\n",
      "Val PSNR: 27.985\n",
      "Saving model...\n",
      "Epoch 27 of 100\n"
     ]
    },
    {
     "name": "stderr",
     "output_type": "stream",
     "text": [
      "100%|██████████| 174/174 [00:06<00:00, 26.74it/s]\n",
      "100%|██████████| 14/14 [00:00<00:00, 48.15it/s]\n"
     ]
    },
    {
     "name": "stdout",
     "output_type": "stream",
     "text": [
      "Train PSNR: 28.054\n",
      "Val PSNR: 27.999\n",
      "Saving model...\n",
      "Epoch 28 of 100\n"
     ]
    },
    {
     "name": "stderr",
     "output_type": "stream",
     "text": [
      "100%|██████████| 174/174 [00:06<00:00, 27.26it/s]\n",
      "100%|██████████| 14/14 [00:00<00:00, 41.89it/s]\n"
     ]
    },
    {
     "name": "stdout",
     "output_type": "stream",
     "text": [
      "Train PSNR: 28.262\n",
      "Val PSNR: 28.069\n",
      "Saving model...\n",
      "Epoch 29 of 100\n"
     ]
    },
    {
     "name": "stderr",
     "output_type": "stream",
     "text": [
      "100%|██████████| 174/174 [00:06<00:00, 28.09it/s]\n",
      "100%|██████████| 14/14 [00:00<00:00, 45.28it/s]\n"
     ]
    },
    {
     "name": "stdout",
     "output_type": "stream",
     "text": [
      "Train PSNR: 28.154\n",
      "Val PSNR: 27.933\n",
      "Saving model...\n",
      "Epoch 30 of 100\n"
     ]
    },
    {
     "name": "stderr",
     "output_type": "stream",
     "text": [
      "100%|██████████| 174/174 [00:06<00:00, 26.91it/s]\n",
      "100%|██████████| 14/14 [00:00<00:00, 45.90it/s]\n"
     ]
    },
    {
     "name": "stdout",
     "output_type": "stream",
     "text": [
      "Train PSNR: 28.300\n",
      "Val PSNR: 28.030\n",
      "Saving model...\n",
      "Epoch 31 of 100\n"
     ]
    },
    {
     "name": "stderr",
     "output_type": "stream",
     "text": [
      "100%|██████████| 174/174 [00:06<00:00, 26.82it/s]\n",
      "100%|██████████| 14/14 [00:00<00:00, 54.67it/s]\n"
     ]
    },
    {
     "name": "stdout",
     "output_type": "stream",
     "text": [
      "Train PSNR: 28.174\n",
      "Val PSNR: 27.739\n",
      "Saving model...\n",
      "Epoch 32 of 100\n"
     ]
    },
    {
     "name": "stderr",
     "output_type": "stream",
     "text": [
      "100%|██████████| 174/174 [00:06<00:00, 27.54it/s]\n",
      "100%|██████████| 14/14 [00:00<00:00, 42.07it/s]\n"
     ]
    },
    {
     "name": "stdout",
     "output_type": "stream",
     "text": [
      "Train PSNR: 28.337\n",
      "Val PSNR: 28.011\n",
      "Saving model...\n",
      "Epoch 33 of 100\n"
     ]
    },
    {
     "name": "stderr",
     "output_type": "stream",
     "text": [
      "100%|██████████| 174/174 [00:06<00:00, 27.57it/s]\n",
      "100%|██████████| 14/14 [00:00<00:00, 45.72it/s]\n"
     ]
    },
    {
     "name": "stdout",
     "output_type": "stream",
     "text": [
      "Train PSNR: 28.360\n",
      "Val PSNR: 27.819\n",
      "Saving model...\n",
      "Epoch 34 of 100\n"
     ]
    },
    {
     "name": "stderr",
     "output_type": "stream",
     "text": [
      "100%|██████████| 174/174 [00:06<00:00, 26.31it/s]\n",
      "100%|██████████| 14/14 [00:00<00:00, 49.19it/s]\n"
     ]
    },
    {
     "name": "stdout",
     "output_type": "stream",
     "text": [
      "Train PSNR: 28.202\n",
      "Val PSNR: 28.000\n",
      "Saving model...\n",
      "Epoch 35 of 100\n"
     ]
    },
    {
     "name": "stderr",
     "output_type": "stream",
     "text": [
      "100%|██████████| 174/174 [00:06<00:00, 27.06it/s]\n",
      "100%|██████████| 14/14 [00:00<00:00, 40.41it/s]\n"
     ]
    },
    {
     "name": "stdout",
     "output_type": "stream",
     "text": [
      "Train PSNR: 28.386\n",
      "Val PSNR: 28.120\n",
      "Saving model...\n",
      "Epoch 36 of 100\n"
     ]
    },
    {
     "name": "stderr",
     "output_type": "stream",
     "text": [
      "100%|██████████| 174/174 [00:06<00:00, 27.65it/s]\n",
      "100%|██████████| 14/14 [00:00<00:00, 45.31it/s]\n"
     ]
    },
    {
     "name": "stdout",
     "output_type": "stream",
     "text": [
      "Train PSNR: 28.378\n",
      "Val PSNR: 28.053\n",
      "Saving model...\n",
      "Epoch 37 of 100\n"
     ]
    },
    {
     "name": "stderr",
     "output_type": "stream",
     "text": [
      "100%|██████████| 174/174 [00:06<00:00, 26.42it/s]\n",
      "100%|██████████| 14/14 [00:00<00:00, 48.20it/s]\n"
     ]
    },
    {
     "name": "stdout",
     "output_type": "stream",
     "text": [
      "Train PSNR: 28.438\n",
      "Val PSNR: 27.671\n",
      "Saving model...\n",
      "Epoch 38 of 100\n"
     ]
    },
    {
     "name": "stderr",
     "output_type": "stream",
     "text": [
      "100%|██████████| 174/174 [00:06<00:00, 26.01it/s]\n",
      "100%|██████████| 14/14 [00:00<00:00, 52.66it/s]\n"
     ]
    },
    {
     "name": "stdout",
     "output_type": "stream",
     "text": [
      "Train PSNR: 28.478\n",
      "Val PSNR: 28.114\n",
      "Saving model...\n",
      "Epoch 39 of 100\n"
     ]
    },
    {
     "name": "stderr",
     "output_type": "stream",
     "text": [
      "100%|██████████| 174/174 [00:06<00:00, 28.25it/s]\n",
      "100%|██████████| 14/14 [00:00<00:00, 42.03it/s]\n"
     ]
    },
    {
     "name": "stdout",
     "output_type": "stream",
     "text": [
      "Train PSNR: 28.425\n",
      "Val PSNR: 28.135\n",
      "Saving model...\n",
      "Epoch 40 of 100\n"
     ]
    },
    {
     "name": "stderr",
     "output_type": "stream",
     "text": [
      "100%|██████████| 174/174 [00:06<00:00, 27.16it/s]\n",
      "100%|██████████| 14/14 [00:00<00:00, 46.94it/s]\n"
     ]
    },
    {
     "name": "stdout",
     "output_type": "stream",
     "text": [
      "Train PSNR: 28.443\n",
      "Val PSNR: 28.173\n",
      "Saving model...\n",
      "Epoch 41 of 100\n"
     ]
    },
    {
     "name": "stderr",
     "output_type": "stream",
     "text": [
      "100%|██████████| 174/174 [00:06<00:00, 26.21it/s]\n",
      "100%|██████████| 14/14 [00:00<00:00, 54.42it/s]\n"
     ]
    },
    {
     "name": "stdout",
     "output_type": "stream",
     "text": [
      "Train PSNR: 28.589\n",
      "Val PSNR: 28.195\n",
      "Saving model...\n",
      "Epoch 42 of 100\n"
     ]
    },
    {
     "name": "stderr",
     "output_type": "stream",
     "text": [
      "100%|██████████| 174/174 [00:06<00:00, 27.32it/s]\n",
      "100%|██████████| 14/14 [00:00<00:00, 40.96it/s]\n"
     ]
    },
    {
     "name": "stdout",
     "output_type": "stream",
     "text": [
      "Train PSNR: 28.556\n",
      "Val PSNR: 28.197\n",
      "Saving model...\n",
      "Epoch 43 of 100\n"
     ]
    },
    {
     "name": "stderr",
     "output_type": "stream",
     "text": [
      "100%|██████████| 174/174 [00:06<00:00, 27.63it/s]\n",
      "100%|██████████| 14/14 [00:00<00:00, 44.46it/s]\n"
     ]
    },
    {
     "name": "stdout",
     "output_type": "stream",
     "text": [
      "Train PSNR: 28.525\n",
      "Val PSNR: 28.136\n",
      "Saving model...\n",
      "Epoch 44 of 100\n"
     ]
    },
    {
     "name": "stderr",
     "output_type": "stream",
     "text": [
      "100%|██████████| 174/174 [00:06<00:00, 27.01it/s]\n",
      "100%|██████████| 14/14 [00:00<00:00, 47.34it/s]\n"
     ]
    },
    {
     "name": "stdout",
     "output_type": "stream",
     "text": [
      "Train PSNR: 28.719\n",
      "Val PSNR: 28.084\n",
      "Saving model...\n",
      "Epoch 45 of 100\n"
     ]
    },
    {
     "name": "stderr",
     "output_type": "stream",
     "text": [
      "100%|██████████| 174/174 [00:06<00:00, 26.62it/s]\n",
      "100%|██████████| 14/14 [00:00<00:00, 41.38it/s]\n"
     ]
    },
    {
     "name": "stdout",
     "output_type": "stream",
     "text": [
      "Train PSNR: 28.607\n",
      "Val PSNR: 28.137\n",
      "Saving model...\n",
      "Epoch 46 of 100\n"
     ]
    },
    {
     "name": "stderr",
     "output_type": "stream",
     "text": [
      "100%|██████████| 174/174 [00:06<00:00, 27.59it/s]\n",
      "100%|██████████| 14/14 [00:00<00:00, 46.48it/s]\n"
     ]
    },
    {
     "name": "stdout",
     "output_type": "stream",
     "text": [
      "Train PSNR: 28.480\n",
      "Val PSNR: 28.075\n",
      "Saving model...\n",
      "Epoch 47 of 100\n"
     ]
    },
    {
     "name": "stderr",
     "output_type": "stream",
     "text": [
      "100%|██████████| 174/174 [00:06<00:00, 26.04it/s]\n",
      "100%|██████████| 14/14 [00:00<00:00, 54.26it/s]\n"
     ]
    },
    {
     "name": "stdout",
     "output_type": "stream",
     "text": [
      "Train PSNR: 28.733\n",
      "Val PSNR: 28.202\n",
      "Saving model...\n",
      "Epoch 48 of 100\n"
     ]
    },
    {
     "name": "stderr",
     "output_type": "stream",
     "text": [
      "100%|██████████| 174/174 [00:06<00:00, 27.15it/s]\n",
      "100%|██████████| 14/14 [00:00<00:00, 43.30it/s]\n"
     ]
    },
    {
     "name": "stdout",
     "output_type": "stream",
     "text": [
      "Train PSNR: 28.698\n",
      "Val PSNR: 27.699\n",
      "Saving model...\n",
      "Epoch 49 of 100\n"
     ]
    },
    {
     "name": "stderr",
     "output_type": "stream",
     "text": [
      "100%|██████████| 174/174 [00:06<00:00, 26.96it/s]\n",
      "100%|██████████| 14/14 [00:00<00:00, 45.93it/s]\n"
     ]
    },
    {
     "name": "stdout",
     "output_type": "stream",
     "text": [
      "Train PSNR: 28.618\n",
      "Val PSNR: 28.230\n",
      "Saving model...\n",
      "Epoch 50 of 100\n"
     ]
    },
    {
     "name": "stderr",
     "output_type": "stream",
     "text": [
      "100%|██████████| 174/174 [00:06<00:00, 26.14it/s]\n",
      "100%|██████████| 14/14 [00:00<00:00, 55.01it/s]\n"
     ]
    },
    {
     "name": "stdout",
     "output_type": "stream",
     "text": [
      "Train PSNR: 28.779\n",
      "Val PSNR: 28.236\n",
      "Saving model...\n",
      "Epoch 51 of 100\n"
     ]
    },
    {
     "name": "stderr",
     "output_type": "stream",
     "text": [
      "100%|██████████| 174/174 [00:06<00:00, 27.73it/s]\n",
      "100%|██████████| 14/14 [00:00<00:00, 40.49it/s]\n"
     ]
    },
    {
     "name": "stdout",
     "output_type": "stream",
     "text": [
      "Train PSNR: 28.754\n",
      "Val PSNR: 28.221\n",
      "Saving model...\n",
      "Epoch 52 of 100\n"
     ]
    },
    {
     "name": "stderr",
     "output_type": "stream",
     "text": [
      "100%|██████████| 174/174 [00:06<00:00, 27.67it/s]\n",
      "100%|██████████| 14/14 [00:00<00:00, 47.86it/s]\n"
     ]
    },
    {
     "name": "stdout",
     "output_type": "stream",
     "text": [
      "Train PSNR: 28.818\n",
      "Val PSNR: 28.051\n",
      "Saving model...\n",
      "Epoch 53 of 100\n"
     ]
    },
    {
     "name": "stderr",
     "output_type": "stream",
     "text": [
      "100%|██████████| 174/174 [00:06<00:00, 25.82it/s]\n",
      "100%|██████████| 14/14 [00:00<00:00, 52.44it/s]\n"
     ]
    },
    {
     "name": "stdout",
     "output_type": "stream",
     "text": [
      "Train PSNR: 28.805\n",
      "Val PSNR: 28.124\n",
      "Saving model...\n",
      "Epoch 54 of 100\n"
     ]
    },
    {
     "name": "stderr",
     "output_type": "stream",
     "text": [
      "100%|██████████| 174/174 [00:06<00:00, 28.17it/s]\n",
      "100%|██████████| 14/14 [00:00<00:00, 44.23it/s]\n"
     ]
    },
    {
     "name": "stdout",
     "output_type": "stream",
     "text": [
      "Train PSNR: 28.783\n",
      "Val PSNR: 28.125\n",
      "Saving model...\n",
      "Epoch 55 of 100\n"
     ]
    },
    {
     "name": "stderr",
     "output_type": "stream",
     "text": [
      "100%|██████████| 174/174 [00:06<00:00, 27.74it/s]\n",
      "100%|██████████| 14/14 [00:00<00:00, 45.75it/s]\n"
     ]
    },
    {
     "name": "stdout",
     "output_type": "stream",
     "text": [
      "Train PSNR: 28.813\n",
      "Val PSNR: 26.337\n",
      "Saving model...\n",
      "Epoch 56 of 100\n"
     ]
    },
    {
     "name": "stderr",
     "output_type": "stream",
     "text": [
      "100%|██████████| 174/174 [00:06<00:00, 27.09it/s]\n",
      "100%|██████████| 14/14 [00:00<00:00, 48.79it/s]\n"
     ]
    },
    {
     "name": "stdout",
     "output_type": "stream",
     "text": [
      "Train PSNR: 28.794\n",
      "Val PSNR: 28.263\n",
      "Saving model...\n",
      "Epoch 57 of 100\n"
     ]
    },
    {
     "name": "stderr",
     "output_type": "stream",
     "text": [
      "100%|██████████| 174/174 [00:06<00:00, 26.78it/s]\n",
      "100%|██████████| 14/14 [00:00<00:00, 42.03it/s]\n"
     ]
    },
    {
     "name": "stdout",
     "output_type": "stream",
     "text": [
      "Train PSNR: 28.885\n",
      "Val PSNR: 28.305\n",
      "Saving model...\n",
      "Epoch 58 of 100\n"
     ]
    },
    {
     "name": "stderr",
     "output_type": "stream",
     "text": [
      "100%|██████████| 174/174 [00:06<00:00, 27.73it/s]\n",
      "100%|██████████| 14/14 [00:00<00:00, 45.06it/s]\n"
     ]
    },
    {
     "name": "stdout",
     "output_type": "stream",
     "text": [
      "Train PSNR: 28.867\n",
      "Val PSNR: 26.506\n",
      "Saving model...\n",
      "Epoch 59 of 100\n"
     ]
    },
    {
     "name": "stderr",
     "output_type": "stream",
     "text": [
      "100%|██████████| 174/174 [00:06<00:00, 26.58it/s]\n",
      "100%|██████████| 14/14 [00:00<00:00, 45.41it/s]\n"
     ]
    },
    {
     "name": "stdout",
     "output_type": "stream",
     "text": [
      "Train PSNR: 28.815\n",
      "Val PSNR: 28.266\n",
      "Saving model...\n",
      "Epoch 60 of 100\n"
     ]
    },
    {
     "name": "stderr",
     "output_type": "stream",
     "text": [
      "100%|██████████| 174/174 [00:06<00:00, 27.08it/s]\n",
      "100%|██████████| 14/14 [00:00<00:00, 45.75it/s]\n"
     ]
    },
    {
     "name": "stdout",
     "output_type": "stream",
     "text": [
      "Train PSNR: 28.972\n",
      "Val PSNR: 28.269\n",
      "Saving model...\n",
      "Epoch 61 of 100\n"
     ]
    },
    {
     "name": "stderr",
     "output_type": "stream",
     "text": [
      "100%|██████████| 174/174 [00:06<00:00, 27.71it/s]\n",
      "100%|██████████| 14/14 [00:00<00:00, 48.91it/s]\n"
     ]
    },
    {
     "name": "stdout",
     "output_type": "stream",
     "text": [
      "Train PSNR: 28.938\n",
      "Val PSNR: 28.079\n",
      "Saving model...\n",
      "Epoch 62 of 100\n"
     ]
    },
    {
     "name": "stderr",
     "output_type": "stream",
     "text": [
      "100%|██████████| 174/174 [00:06<00:00, 27.24it/s]\n",
      "100%|██████████| 14/14 [00:00<00:00, 49.26it/s]\n"
     ]
    },
    {
     "name": "stdout",
     "output_type": "stream",
     "text": [
      "Train PSNR: 28.817\n",
      "Val PSNR: 27.818\n",
      "Saving model...\n",
      "Epoch 63 of 100\n"
     ]
    },
    {
     "name": "stderr",
     "output_type": "stream",
     "text": [
      "100%|██████████| 174/174 [00:06<00:00, 26.47it/s]\n",
      "100%|██████████| 14/14 [00:00<00:00, 39.39it/s]\n"
     ]
    },
    {
     "name": "stdout",
     "output_type": "stream",
     "text": [
      "Train PSNR: 28.809\n",
      "Val PSNR: 28.212\n",
      "Saving model...\n",
      "Epoch 64 of 100\n"
     ]
    },
    {
     "name": "stderr",
     "output_type": "stream",
     "text": [
      "100%|██████████| 174/174 [00:06<00:00, 28.07it/s]\n",
      "100%|██████████| 14/14 [00:00<00:00, 43.90it/s]\n"
     ]
    },
    {
     "name": "stdout",
     "output_type": "stream",
     "text": [
      "Train PSNR: 28.952\n",
      "Val PSNR: 28.310\n",
      "Saving model...\n",
      "Epoch 65 of 100\n"
     ]
    },
    {
     "name": "stderr",
     "output_type": "stream",
     "text": [
      "100%|██████████| 174/174 [00:06<00:00, 26.58it/s]\n",
      "100%|██████████| 14/14 [00:00<00:00, 47.39it/s]\n"
     ]
    },
    {
     "name": "stdout",
     "output_type": "stream",
     "text": [
      "Train PSNR: 29.047\n",
      "Val PSNR: 28.364\n",
      "Saving model...\n",
      "Epoch 66 of 100\n"
     ]
    },
    {
     "name": "stderr",
     "output_type": "stream",
     "text": [
      "100%|██████████| 174/174 [00:06<00:00, 26.06it/s]\n",
      "100%|██████████| 14/14 [00:00<00:00, 45.24it/s]\n"
     ]
    },
    {
     "name": "stdout",
     "output_type": "stream",
     "text": [
      "Train PSNR: 28.983\n",
      "Val PSNR: 28.334\n",
      "Saving model...\n",
      "Epoch 67 of 100\n"
     ]
    },
    {
     "name": "stderr",
     "output_type": "stream",
     "text": [
      "100%|██████████| 174/174 [00:06<00:00, 28.46it/s]\n",
      "100%|██████████| 14/14 [00:00<00:00, 43.10it/s]\n"
     ]
    },
    {
     "name": "stdout",
     "output_type": "stream",
     "text": [
      "Train PSNR: 29.046\n",
      "Val PSNR: 28.259\n",
      "Saving model...\n",
      "Epoch 68 of 100\n"
     ]
    },
    {
     "name": "stderr",
     "output_type": "stream",
     "text": [
      "100%|██████████| 174/174 [00:06<00:00, 27.98it/s]\n",
      "100%|██████████| 14/14 [00:00<00:00, 45.34it/s]\n"
     ]
    },
    {
     "name": "stdout",
     "output_type": "stream",
     "text": [
      "Train PSNR: 28.964\n",
      "Val PSNR: 28.167\n",
      "Saving model...\n",
      "Epoch 69 of 100\n"
     ]
    },
    {
     "name": "stderr",
     "output_type": "stream",
     "text": [
      "100%|██████████| 174/174 [00:06<00:00, 25.71it/s]\n",
      "100%|██████████| 14/14 [00:00<00:00, 53.98it/s]\n"
     ]
    },
    {
     "name": "stdout",
     "output_type": "stream",
     "text": [
      "Train PSNR: 28.878\n",
      "Val PSNR: 28.345\n",
      "Saving model...\n",
      "Epoch 70 of 100\n"
     ]
    },
    {
     "name": "stderr",
     "output_type": "stream",
     "text": [
      "100%|██████████| 174/174 [00:06<00:00, 27.84it/s]\n",
      "100%|██████████| 14/14 [00:00<00:00, 41.09it/s]\n"
     ]
    },
    {
     "name": "stdout",
     "output_type": "stream",
     "text": [
      "Train PSNR: 29.034\n",
      "Val PSNR: 28.017\n",
      "Saving model...\n",
      "Epoch 71 of 100\n"
     ]
    },
    {
     "name": "stderr",
     "output_type": "stream",
     "text": [
      "100%|██████████| 174/174 [00:06<00:00, 27.64it/s]\n",
      "100%|██████████| 14/14 [00:00<00:00, 43.71it/s]\n"
     ]
    },
    {
     "name": "stdout",
     "output_type": "stream",
     "text": [
      "Train PSNR: 29.046\n",
      "Val PSNR: 28.368\n",
      "Saving model...\n",
      "Epoch 72 of 100\n"
     ]
    },
    {
     "name": "stderr",
     "output_type": "stream",
     "text": [
      "100%|██████████| 174/174 [00:06<00:00, 26.10it/s]\n",
      "100%|██████████| 14/14 [00:00<00:00, 49.15it/s]\n"
     ]
    },
    {
     "name": "stdout",
     "output_type": "stream",
     "text": [
      "Train PSNR: 29.005\n",
      "Val PSNR: 28.372\n",
      "Saving model...\n",
      "Epoch 73 of 100\n"
     ]
    },
    {
     "name": "stderr",
     "output_type": "stream",
     "text": [
      "100%|██████████| 174/174 [00:06<00:00, 27.52it/s]\n",
      "100%|██████████| 14/14 [00:00<00:00, 49.59it/s]\n"
     ]
    },
    {
     "name": "stdout",
     "output_type": "stream",
     "text": [
      "Train PSNR: 28.988\n",
      "Val PSNR: 28.313\n",
      "Saving model...\n",
      "Epoch 74 of 100\n"
     ]
    },
    {
     "name": "stderr",
     "output_type": "stream",
     "text": [
      "100%|██████████| 174/174 [00:06<00:00, 26.94it/s]\n",
      "100%|██████████| 14/14 [00:00<00:00, 42.06it/s]\n"
     ]
    },
    {
     "name": "stdout",
     "output_type": "stream",
     "text": [
      "Train PSNR: 29.115\n",
      "Val PSNR: 28.290\n",
      "Saving model...\n",
      "Epoch 75 of 100\n"
     ]
    },
    {
     "name": "stderr",
     "output_type": "stream",
     "text": [
      "100%|██████████| 174/174 [00:06<00:00, 27.54it/s]\n",
      "100%|██████████| 14/14 [00:00<00:00, 45.87it/s]\n"
     ]
    },
    {
     "name": "stdout",
     "output_type": "stream",
     "text": [
      "Train PSNR: 29.048\n",
      "Val PSNR: 28.258\n",
      "Saving model...\n",
      "Epoch 76 of 100\n"
     ]
    },
    {
     "name": "stderr",
     "output_type": "stream",
     "text": [
      "100%|██████████| 174/174 [00:06<00:00, 25.68it/s]\n",
      "100%|██████████| 14/14 [00:00<00:00, 53.87it/s]\n"
     ]
    },
    {
     "name": "stdout",
     "output_type": "stream",
     "text": [
      "Train PSNR: 28.923\n",
      "Val PSNR: 28.139\n",
      "Saving model...\n",
      "Epoch 77 of 100\n"
     ]
    },
    {
     "name": "stderr",
     "output_type": "stream",
     "text": [
      "100%|██████████| 174/174 [00:06<00:00, 27.79it/s]\n",
      "100%|██████████| 14/14 [00:00<00:00, 43.06it/s]\n"
     ]
    },
    {
     "name": "stdout",
     "output_type": "stream",
     "text": [
      "Train PSNR: 29.097\n",
      "Val PSNR: 28.326\n",
      "Saving model...\n",
      "Epoch 78 of 100\n"
     ]
    },
    {
     "name": "stderr",
     "output_type": "stream",
     "text": [
      "100%|██████████| 174/174 [00:06<00:00, 28.18it/s]\n",
      "100%|██████████| 14/14 [00:00<00:00, 42.88it/s]\n"
     ]
    },
    {
     "name": "stdout",
     "output_type": "stream",
     "text": [
      "Train PSNR: 29.059\n",
      "Val PSNR: 28.297\n",
      "Saving model...\n",
      "Epoch 79 of 100\n"
     ]
    },
    {
     "name": "stderr",
     "output_type": "stream",
     "text": [
      "100%|██████████| 174/174 [00:06<00:00, 26.62it/s]\n",
      "100%|██████████| 14/14 [00:00<00:00, 47.16it/s]\n"
     ]
    },
    {
     "name": "stdout",
     "output_type": "stream",
     "text": [
      "Train PSNR: 29.138\n",
      "Val PSNR: 28.100\n",
      "Saving model...\n",
      "Epoch 80 of 100\n"
     ]
    },
    {
     "name": "stderr",
     "output_type": "stream",
     "text": [
      "100%|██████████| 174/174 [00:06<00:00, 27.63it/s]\n",
      "100%|██████████| 14/14 [00:00<00:00, 47.01it/s]\n"
     ]
    },
    {
     "name": "stdout",
     "output_type": "stream",
     "text": [
      "Train PSNR: 29.075\n",
      "Val PSNR: 28.358\n",
      "Saving model...\n",
      "Epoch 81 of 100\n"
     ]
    },
    {
     "name": "stderr",
     "output_type": "stream",
     "text": [
      "100%|██████████| 174/174 [00:06<00:00, 25.57it/s]\n",
      "100%|██████████| 14/14 [00:00<00:00, 55.40it/s]\n"
     ]
    },
    {
     "name": "stdout",
     "output_type": "stream",
     "text": [
      "Train PSNR: 29.037\n",
      "Val PSNR: 27.942\n",
      "Saving model...\n",
      "Epoch 82 of 100\n"
     ]
    },
    {
     "name": "stderr",
     "output_type": "stream",
     "text": [
      "100%|██████████| 174/174 [00:06<00:00, 27.70it/s]\n",
      "100%|██████████| 14/14 [00:00<00:00, 43.40it/s]\n"
     ]
    },
    {
     "name": "stdout",
     "output_type": "stream",
     "text": [
      "Train PSNR: 29.086\n",
      "Val PSNR: 28.299\n",
      "Saving model...\n",
      "Epoch 83 of 100\n"
     ]
    },
    {
     "name": "stderr",
     "output_type": "stream",
     "text": [
      "100%|██████████| 174/174 [00:06<00:00, 27.34it/s]\n",
      "100%|██████████| 14/14 [00:00<00:00, 45.38it/s]\n"
     ]
    },
    {
     "name": "stdout",
     "output_type": "stream",
     "text": [
      "Train PSNR: 29.132\n",
      "Val PSNR: 28.158\n",
      "Saving model...\n",
      "Epoch 84 of 100\n"
     ]
    },
    {
     "name": "stderr",
     "output_type": "stream",
     "text": [
      "100%|██████████| 174/174 [00:06<00:00, 26.12it/s]\n",
      "100%|██████████| 14/14 [00:00<00:00, 52.08it/s]\n"
     ]
    },
    {
     "name": "stdout",
     "output_type": "stream",
     "text": [
      "Train PSNR: 29.149\n",
      "Val PSNR: 28.308\n",
      "Saving model...\n",
      "Epoch 85 of 100\n"
     ]
    },
    {
     "name": "stderr",
     "output_type": "stream",
     "text": [
      "100%|██████████| 174/174 [00:06<00:00, 27.43it/s]\n",
      "100%|██████████| 14/14 [00:00<00:00, 54.03it/s]\n"
     ]
    },
    {
     "name": "stdout",
     "output_type": "stream",
     "text": [
      "Train PSNR: 29.081\n",
      "Val PSNR: 28.372\n",
      "Saving model...\n",
      "Epoch 86 of 100\n"
     ]
    },
    {
     "name": "stderr",
     "output_type": "stream",
     "text": [
      "100%|██████████| 174/174 [00:06<00:00, 27.01it/s]\n",
      "100%|██████████| 14/14 [00:00<00:00, 43.34it/s]\n"
     ]
    },
    {
     "name": "stdout",
     "output_type": "stream",
     "text": [
      "Train PSNR: 29.128\n",
      "Val PSNR: 28.360\n",
      "Saving model...\n",
      "Epoch 87 of 100\n"
     ]
    },
    {
     "name": "stderr",
     "output_type": "stream",
     "text": [
      "100%|██████████| 174/174 [00:06<00:00, 27.51it/s]\n",
      "100%|██████████| 14/14 [00:00<00:00, 43.47it/s]\n"
     ]
    },
    {
     "name": "stdout",
     "output_type": "stream",
     "text": [
      "Train PSNR: 29.143\n",
      "Val PSNR: 28.415\n",
      "Saving model...\n",
      "Epoch 88 of 100\n"
     ]
    },
    {
     "name": "stderr",
     "output_type": "stream",
     "text": [
      "100%|██████████| 174/174 [00:06<00:00, 27.19it/s]\n",
      "100%|██████████| 14/14 [00:00<00:00, 48.38it/s]\n"
     ]
    },
    {
     "name": "stdout",
     "output_type": "stream",
     "text": [
      "Train PSNR: 29.099\n",
      "Val PSNR: 28.145\n",
      "Saving model...\n",
      "Epoch 89 of 100\n"
     ]
    },
    {
     "name": "stderr",
     "output_type": "stream",
     "text": [
      "100%|██████████| 174/174 [00:06<00:00, 26.03it/s]\n",
      "100%|██████████| 14/14 [00:00<00:00, 53.16it/s]\n"
     ]
    },
    {
     "name": "stdout",
     "output_type": "stream",
     "text": [
      "Train PSNR: 29.195\n",
      "Val PSNR: 28.057\n",
      "Saving model...\n",
      "Epoch 90 of 100\n"
     ]
    },
    {
     "name": "stderr",
     "output_type": "stream",
     "text": [
      "100%|██████████| 174/174 [00:06<00:00, 27.70it/s]\n",
      "100%|██████████| 14/14 [00:00<00:00, 42.17it/s]\n"
     ]
    },
    {
     "name": "stdout",
     "output_type": "stream",
     "text": [
      "Train PSNR: 29.124\n",
      "Val PSNR: 28.299\n",
      "Saving model...\n",
      "Epoch 91 of 100\n"
     ]
    },
    {
     "name": "stderr",
     "output_type": "stream",
     "text": [
      "100%|██████████| 174/174 [00:06<00:00, 27.28it/s]\n",
      "100%|██████████| 14/14 [00:00<00:00, 46.95it/s]\n"
     ]
    },
    {
     "name": "stdout",
     "output_type": "stream",
     "text": [
      "Train PSNR: 29.150\n",
      "Val PSNR: 28.366\n",
      "Saving model...\n",
      "Epoch 92 of 100\n"
     ]
    },
    {
     "name": "stderr",
     "output_type": "stream",
     "text": [
      "100%|██████████| 174/174 [00:06<00:00, 27.15it/s]\n",
      "100%|██████████| 14/14 [00:00<00:00, 48.52it/s]\n"
     ]
    },
    {
     "name": "stdout",
     "output_type": "stream",
     "text": [
      "Train PSNR: 29.151\n",
      "Val PSNR: 28.338\n",
      "Saving model...\n",
      "Epoch 93 of 100\n"
     ]
    },
    {
     "name": "stderr",
     "output_type": "stream",
     "text": [
      "100%|██████████| 174/174 [00:06<00:00, 26.63it/s]\n",
      "100%|██████████| 14/14 [00:00<00:00, 40.55it/s]\n"
     ]
    },
    {
     "name": "stdout",
     "output_type": "stream",
     "text": [
      "Train PSNR: 29.169\n",
      "Val PSNR: 28.369\n",
      "Saving model...\n",
      "Epoch 94 of 100\n"
     ]
    },
    {
     "name": "stderr",
     "output_type": "stream",
     "text": [
      "100%|██████████| 174/174 [00:06<00:00, 27.67it/s]\n",
      "100%|██████████| 14/14 [00:00<00:00, 43.50it/s]\n"
     ]
    },
    {
     "name": "stdout",
     "output_type": "stream",
     "text": [
      "Train PSNR: 29.204\n",
      "Val PSNR: 28.248\n",
      "Saving model...\n",
      "Epoch 95 of 100\n"
     ]
    },
    {
     "name": "stderr",
     "output_type": "stream",
     "text": [
      "100%|██████████| 174/174 [00:06<00:00, 27.05it/s]\n",
      "100%|██████████| 14/14 [00:00<00:00, 48.09it/s]\n"
     ]
    },
    {
     "name": "stdout",
     "output_type": "stream",
     "text": [
      "Train PSNR: 29.152\n",
      "Val PSNR: 28.362\n",
      "Saving model...\n",
      "Epoch 96 of 100\n"
     ]
    },
    {
     "name": "stderr",
     "output_type": "stream",
     "text": [
      "100%|██████████| 174/174 [00:06<00:00, 25.99it/s]\n",
      "100%|██████████| 14/14 [00:00<00:00, 54.24it/s]\n"
     ]
    },
    {
     "name": "stdout",
     "output_type": "stream",
     "text": [
      "Train PSNR: 29.181\n",
      "Val PSNR: 27.797\n",
      "Saving model...\n",
      "Epoch 97 of 100\n"
     ]
    },
    {
     "name": "stderr",
     "output_type": "stream",
     "text": [
      "100%|██████████| 174/174 [00:06<00:00, 27.59it/s]\n",
      "100%|██████████| 14/14 [00:00<00:00, 41.42it/s]\n"
     ]
    },
    {
     "name": "stdout",
     "output_type": "stream",
     "text": [
      "Train PSNR: 29.194\n",
      "Val PSNR: 28.364\n",
      "Saving model...\n",
      "Epoch 98 of 100\n"
     ]
    },
    {
     "name": "stderr",
     "output_type": "stream",
     "text": [
      "100%|██████████| 174/174 [00:06<00:00, 27.60it/s]\n",
      "100%|██████████| 14/14 [00:00<00:00, 43.39it/s]\n"
     ]
    },
    {
     "name": "stdout",
     "output_type": "stream",
     "text": [
      "Train PSNR: 29.185\n",
      "Val PSNR: 28.306\n",
      "Saving model...\n",
      "Epoch 99 of 100\n"
     ]
    },
    {
     "name": "stderr",
     "output_type": "stream",
     "text": [
      "100%|██████████| 174/174 [00:06<00:00, 26.75it/s]\n",
      "100%|██████████| 14/14 [00:00<00:00, 46.57it/s]\n"
     ]
    },
    {
     "name": "stdout",
     "output_type": "stream",
     "text": [
      "Train PSNR: 29.178\n",
      "Val PSNR: 28.212\n",
      "Saving model...\n",
      "Epoch 100 of 100\n"
     ]
    },
    {
     "name": "stderr",
     "output_type": "stream",
     "text": [
      "100%|██████████| 174/174 [00:06<00:00, 25.98it/s]\n",
      "100%|██████████| 14/14 [00:00<00:00, 55.42it/s]\n"
     ]
    },
    {
     "name": "stdout",
     "output_type": "stream",
     "text": [
      "Train PSNR: 29.208\n",
      "Val PSNR: 28.388\n",
      "Saving model...\n",
      "Finished training in: 11.416 minutes\n"
     ]
    }
   ],
   "source": [
    "train_loss, val_loss = [], []\n",
    "train_psnr, val_psnr = [], []\n",
    "start = time.time()\n",
    "for epoch in range(epochs):\n",
    "    print(f\"Epoch {epoch + 1} of {epochs}\")\n",
    "    train_epoch_loss, train_epoch_psnr = train(model, train_loader)\n",
    "    val_epoch_loss, val_epoch_psnr = validate(model, valid_loader, epoch+1)\n",
    "    print(f\"Train PSNR: {train_epoch_psnr:.3f}\")\n",
    "    print(f\"Val PSNR: {val_epoch_psnr:.3f}\")\n",
    "    train_loss.append(train_epoch_loss)\n",
    "    train_psnr.append(train_epoch_psnr)\n",
    "    val_loss.append(val_epoch_loss)\n",
    "    val_psnr.append(val_epoch_psnr)\n",
    "    \n",
    "    # Save model with all information every 100 epochs. Can be used \n",
    "    # resuming training.\n",
    "    if (epoch+1) % 100 == 0:\n",
    "        save_model(epoch, model, optimizer, criterion)\n",
    "    # Save the model state dictionary only every epoch. Small size, \n",
    "    # can be used for inference.\n",
    "    save_model_state(model)\n",
    "    # Save the PSNR and loss plots every epoch.\n",
    "    save_plot(train_loss, val_loss, train_psnr, val_psnr)\n",
    "\n",
    "end = time.time()\n",
    "print(f\"Finished training in: {((end-start)/60):.3f} minutes\")"
   ]
  }
 ],
 "metadata": {
  "kernelspec": {
   "display_name": "pytorch-gpu",
   "language": "python",
   "name": "python3"
  },
  "language_info": {
   "codemirror_mode": {
    "name": "ipython",
    "version": 3
   },
   "file_extension": ".py",
   "mimetype": "text/x-python",
   "name": "python",
   "nbconvert_exporter": "python",
   "pygments_lexer": "ipython3",
   "version": "3.9.16"
  },
  "orig_nbformat": 4
 },
 "nbformat": 4,
 "nbformat_minor": 2
}
