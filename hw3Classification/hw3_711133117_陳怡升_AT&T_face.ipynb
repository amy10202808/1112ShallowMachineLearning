{
 "cells": [
  {
   "cell_type": "markdown",
   "id": "e519a630",
   "metadata": {},
   "source": [
    "<font size=4 color=darkblue>目標</font>\n",
    "\n",
    "本次作業是想要驗證以下 3 點而進行的實驗\n",
    "\n",
    "- 有／無標準化之完整資料及主成分資料的準確率與執行時間比較\n",
    "- 介紹多元羅吉斯回歸、支援向量機、神經網路的參數選擇\n",
    "- 多元羅吉斯回歸、支援向量機、神經網路的比較\n",
    "---\n",
    "\n",
    "【台北大學碩士班課程】淺度機器學習<br>\n",
    "【授課老師】汪群超<br>\n",
    "【學期】1112 <br>\n",
    "【主要內容】分類器的原理與評比實驗：多元羅吉斯回歸、支援向量機、神經網路<br>\n",
    "【作者】711133117 陳怡升 <br>\n",
    "【參考網站】\n",
    "- 老師講義：[汪群超 Shallow Machine Lesson 8: 淺度機器學習：分類器的原理與評比實驗](https://ntpuccw.blog/sml-lesson-8-%e6%b7%ba%e5%ba%a6%e6%a9%9f%e5%99%a8%e5%ad%b8%e7%bf%92%ef%bc%9a%e5%88%86%e9%a1%9e%e5%99%a8%e7%9a%84%e5%8e%9f%e7%90%86%e8%88%87%e8%a9%95%e6%af%94%e5%af%a6%e9%a9%97/)\n",
    "- 多元羅吉斯回歸：[Sklean LogisticRegression 官方文件](https://scikit-learn.org/stable/modules/generated/sklearn.linear_model.LogisticRegression.html)\n",
    "\n",
    "- SVM\n",
    "    - [SVM: Feature Selection and Kernels](https://towardsdatascience.com/svm-feature-selection-and-kernels-840781cc1a6c)\n",
    "    - [SVM 支援向量機演算法-原理篇](https://iter01.com/582104.html)\n",
    "    - [Sklean SVC 官方文件](https://scikit-learn.org/stable/modules/generated/sklearn.svm.SVC.html)\n",
    "\n",
    "- 神經網路\n",
    "    - [深度神經網路](https://medium.com/@afly.bsky/dnn-%E6%B7%B1%E5%BA%A6%E7%A5%9E%E7%B6%93%E7%B6%B2%E8%B7%AF-cf892cbb06d5)\n",
    "    - [Sklean MLPClassifier 官方文件](https://scikit-learn.org/stable/modules/generated/sklearn.neural_network.MLPClassifier.html)\n",
    "    \n",
    "- Cross Validation\n",
    "    - [Day 5 / 必備實作知識與工具 / 關於 Training，還有一些基本功（一）](https://ithelp.ithome.com.tw/articles/10240556)\n",
    "    - [Sklean GridSearchCV 官方文件](https://scikit-learn.org/stable/modules/generated/sklearn.model_selection.GridSearchCV.html)"
   ]
  },
  {
   "cell_type": "code",
   "execution_count": 1,
   "id": "9f74f833",
   "metadata": {},
   "outputs": [],
   "source": [
    "import matplotlib.pyplot as plt\n",
    "import seaborn as sns\n",
    "import numpy as np\n",
    "import pandas as pd\n",
    "import cv2, glob, time\n",
    "from sklearn.preprocessing import StandardScaler\n",
    "from sklearn.model_selection import train_test_split, GridSearchCV, StratifiedShuffleSplit\n",
    "from sklearn.linear_model import LogisticRegression\n",
    "from sklearn.metrics import accuracy_score, classification_report, f1_score\n",
    "from sklearn.decomposition import PCA\n",
    "from sklearn.svm import SVC, LinearSVC\n",
    "from sklearn.neural_network import MLPClassifier"
   ]
  },
  {
   "cell_type": "code",
   "execution_count": 2,
   "id": "8084c70a",
   "metadata": {},
   "outputs": [],
   "source": [
    "file = r'C:\\Course\\1112ShallowMachineLearning\\data'"
   ]
  },
  {
   "cell_type": "code",
   "execution_count": 2,
   "id": "18349540",
   "metadata": {},
   "outputs": [],
   "source": [
    "file = r'D:\\711133117\\1112ShallowMachineLearning\\data'"
   ]
  },
  {
   "cell_type": "code",
   "execution_count": 3,
   "id": "354dc63a",
   "metadata": {},
   "outputs": [],
   "source": [
    "sns.set_theme()"
   ]
  },
  {
   "cell_type": "code",
   "execution_count": null,
   "id": "5e7223eb",
   "metadata": {},
   "outputs": [],
   "source": [
    "def montage(A, m, n, sz):\n",
    "    if type(A)==pd.core.frame.DataFrame:\n",
    "        A = np.array(A)\n",
    "    M = np.zeros((m*sz[0], n*sz[1])) # montage image\n",
    "    for i in range(0,m):\n",
    "        for j in range(0,n):\n",
    "            M[i*sz[0]:(i+1)*sz[0], j*sz[1]:(j+1)*sz[1]] = A[i*n+j,:].reshape(sz[0], sz[1])\n",
    "    return M"
   ]
  },
  {
   "cell_type": "markdown",
   "id": "048f14eb",
   "metadata": {},
   "source": [
    "# 資料探索"
   ]
  },
  {
   "cell_type": "code",
   "execution_count": 5,
   "id": "a3991279",
   "metadata": {},
   "outputs": [
    {
     "name": "stdout",
     "output_type": "stream",
     "text": [
      "資料共有 400 筆，4097 個欄位\n"
     ]
    },
    {
     "data": {
      "text/html": [
       "<div>\n",
       "<style scoped>\n",
       "    .dataframe tbody tr th:only-of-type {\n",
       "        vertical-align: middle;\n",
       "    }\n",
       "\n",
       "    .dataframe tbody tr th {\n",
       "        vertical-align: top;\n",
       "    }\n",
       "\n",
       "    .dataframe thead th {\n",
       "        text-align: right;\n",
       "    }\n",
       "</style>\n",
       "<table border=\"1\" class=\"dataframe\">\n",
       "  <thead>\n",
       "    <tr style=\"text-align: right;\">\n",
       "      <th></th>\n",
       "      <th>0</th>\n",
       "      <th>1</th>\n",
       "      <th>2</th>\n",
       "      <th>3</th>\n",
       "      <th>4</th>\n",
       "      <th>5</th>\n",
       "      <th>6</th>\n",
       "      <th>7</th>\n",
       "      <th>8</th>\n",
       "      <th>9</th>\n",
       "      <th>...</th>\n",
       "      <th>4087</th>\n",
       "      <th>4088</th>\n",
       "      <th>4089</th>\n",
       "      <th>4090</th>\n",
       "      <th>4091</th>\n",
       "      <th>4092</th>\n",
       "      <th>4093</th>\n",
       "      <th>4094</th>\n",
       "      <th>4095</th>\n",
       "      <th>target</th>\n",
       "    </tr>\n",
       "  </thead>\n",
       "  <tbody>\n",
       "    <tr>\n",
       "      <th>0</th>\n",
       "      <td>0.309917</td>\n",
       "      <td>0.367769</td>\n",
       "      <td>0.417355</td>\n",
       "      <td>0.442149</td>\n",
       "      <td>0.528926</td>\n",
       "      <td>0.607438</td>\n",
       "      <td>0.657025</td>\n",
       "      <td>0.677686</td>\n",
       "      <td>0.690083</td>\n",
       "      <td>0.685950</td>\n",
       "      <td>...</td>\n",
       "      <td>0.669422</td>\n",
       "      <td>0.652893</td>\n",
       "      <td>0.661157</td>\n",
       "      <td>0.475207</td>\n",
       "      <td>0.132231</td>\n",
       "      <td>0.148760</td>\n",
       "      <td>0.152893</td>\n",
       "      <td>0.161157</td>\n",
       "      <td>0.157025</td>\n",
       "      <td>0</td>\n",
       "    </tr>\n",
       "    <tr>\n",
       "      <th>1</th>\n",
       "      <td>0.454545</td>\n",
       "      <td>0.471074</td>\n",
       "      <td>0.512397</td>\n",
       "      <td>0.557851</td>\n",
       "      <td>0.595041</td>\n",
       "      <td>0.640496</td>\n",
       "      <td>0.681818</td>\n",
       "      <td>0.702479</td>\n",
       "      <td>0.710744</td>\n",
       "      <td>0.702479</td>\n",
       "      <td>...</td>\n",
       "      <td>0.157025</td>\n",
       "      <td>0.136364</td>\n",
       "      <td>0.148760</td>\n",
       "      <td>0.152893</td>\n",
       "      <td>0.152893</td>\n",
       "      <td>0.152893</td>\n",
       "      <td>0.152893</td>\n",
       "      <td>0.152893</td>\n",
       "      <td>0.152893</td>\n",
       "      <td>0</td>\n",
       "    </tr>\n",
       "    <tr>\n",
       "      <th>2</th>\n",
       "      <td>0.318182</td>\n",
       "      <td>0.400826</td>\n",
       "      <td>0.491736</td>\n",
       "      <td>0.528926</td>\n",
       "      <td>0.586777</td>\n",
       "      <td>0.657025</td>\n",
       "      <td>0.681818</td>\n",
       "      <td>0.685950</td>\n",
       "      <td>0.702479</td>\n",
       "      <td>0.698347</td>\n",
       "      <td>...</td>\n",
       "      <td>0.132231</td>\n",
       "      <td>0.181818</td>\n",
       "      <td>0.136364</td>\n",
       "      <td>0.128099</td>\n",
       "      <td>0.148760</td>\n",
       "      <td>0.144628</td>\n",
       "      <td>0.140496</td>\n",
       "      <td>0.148760</td>\n",
       "      <td>0.152893</td>\n",
       "      <td>0</td>\n",
       "    </tr>\n",
       "    <tr>\n",
       "      <th>3</th>\n",
       "      <td>0.198347</td>\n",
       "      <td>0.194215</td>\n",
       "      <td>0.194215</td>\n",
       "      <td>0.194215</td>\n",
       "      <td>0.190083</td>\n",
       "      <td>0.190083</td>\n",
       "      <td>0.243802</td>\n",
       "      <td>0.404959</td>\n",
       "      <td>0.483471</td>\n",
       "      <td>0.516529</td>\n",
       "      <td>...</td>\n",
       "      <td>0.636364</td>\n",
       "      <td>0.657025</td>\n",
       "      <td>0.685950</td>\n",
       "      <td>0.727273</td>\n",
       "      <td>0.743802</td>\n",
       "      <td>0.764463</td>\n",
       "      <td>0.752066</td>\n",
       "      <td>0.752066</td>\n",
       "      <td>0.739669</td>\n",
       "      <td>0</td>\n",
       "    </tr>\n",
       "    <tr>\n",
       "      <th>4</th>\n",
       "      <td>0.500000</td>\n",
       "      <td>0.545455</td>\n",
       "      <td>0.582645</td>\n",
       "      <td>0.623967</td>\n",
       "      <td>0.648760</td>\n",
       "      <td>0.690083</td>\n",
       "      <td>0.694215</td>\n",
       "      <td>0.714876</td>\n",
       "      <td>0.723140</td>\n",
       "      <td>0.731405</td>\n",
       "      <td>...</td>\n",
       "      <td>0.161157</td>\n",
       "      <td>0.177686</td>\n",
       "      <td>0.173554</td>\n",
       "      <td>0.177686</td>\n",
       "      <td>0.177686</td>\n",
       "      <td>0.177686</td>\n",
       "      <td>0.177686</td>\n",
       "      <td>0.173554</td>\n",
       "      <td>0.173554</td>\n",
       "      <td>0</td>\n",
       "    </tr>\n",
       "  </tbody>\n",
       "</table>\n",
       "<p>5 rows × 4097 columns</p>\n",
       "</div>"
      ],
      "text/plain": [
       "          0         1         2         3         4         5         6   \n",
       "0  0.309917  0.367769  0.417355  0.442149  0.528926  0.607438  0.657025  \\\n",
       "1  0.454545  0.471074  0.512397  0.557851  0.595041  0.640496  0.681818   \n",
       "2  0.318182  0.400826  0.491736  0.528926  0.586777  0.657025  0.681818   \n",
       "3  0.198347  0.194215  0.194215  0.194215  0.190083  0.190083  0.243802   \n",
       "4  0.500000  0.545455  0.582645  0.623967  0.648760  0.690083  0.694215   \n",
       "\n",
       "          7         8         9  ...      4087      4088      4089      4090   \n",
       "0  0.677686  0.690083  0.685950  ...  0.669422  0.652893  0.661157  0.475207  \\\n",
       "1  0.702479  0.710744  0.702479  ...  0.157025  0.136364  0.148760  0.152893   \n",
       "2  0.685950  0.702479  0.698347  ...  0.132231  0.181818  0.136364  0.128099   \n",
       "3  0.404959  0.483471  0.516529  ...  0.636364  0.657025  0.685950  0.727273   \n",
       "4  0.714876  0.723140  0.731405  ...  0.161157  0.177686  0.173554  0.177686   \n",
       "\n",
       "       4091      4092      4093      4094      4095  target  \n",
       "0  0.132231  0.148760  0.152893  0.161157  0.157025       0  \n",
       "1  0.152893  0.152893  0.152893  0.152893  0.152893       0  \n",
       "2  0.148760  0.144628  0.140496  0.148760  0.152893       0  \n",
       "3  0.743802  0.764463  0.752066  0.752066  0.739669       0  \n",
       "4  0.177686  0.177686  0.177686  0.173554  0.173554       0  \n",
       "\n",
       "[5 rows x 4097 columns]"
      ]
     },
     "execution_count": 5,
     "metadata": {},
     "output_type": "execute_result"
    }
   ],
   "source": [
    "face_df = pd.read_csv(file + r'\\face_data.csv')\n",
    "print(f\"資料共有 {face_df.shape[0]} 筆，{face_df.shape[1]} 個欄位\")\n",
    "face_df.head(5)"
   ]
  },
  {
   "cell_type": "code",
   "execution_count": null,
   "id": "593804b8",
   "metadata": {},
   "outputs": [],
   "source": [
    "sz = np.array((192, 168)) \n",
    "plt.figure(figsize=(15,15))\n",
    "M = montage(X.loc[np.pad(y.cumsum()[:-1],(1,0)),:], 19, 2, sz[::-1]).T\n",
    "plt.imshow(M, cmap=plt.cm.gray , interpolation='nearest')\n",
    "plt.xticks ([]), plt.yticks ([])\n",
    "plt.show()"
   ]
  },
  {
   "cell_type": "markdown",
   "id": "261a7969",
   "metadata": {},
   "source": [
    "設定解釋變數和反應變數"
   ]
  },
  {
   "cell_type": "code",
   "execution_count": 6,
   "id": "7898cb45",
   "metadata": {},
   "outputs": [],
   "source": [
    "X = face_df.iloc[:, :-1]\n",
    "y = face_df.iloc[:, -1]"
   ]
  },
  {
   "cell_type": "markdown",
   "id": "acff948e",
   "metadata": {},
   "source": [
    "# 比較資料設定\n",
    "## 原始資料（沒有標準化），切分 Train 和 Test\n",
    "\n",
    "在評比各個學習器之前要先介紹訓練資料以及測試資料的差別。機器學習中，會需要學習資料的規則並且進行預測，若將所有資料全部拿來訓練再進行預測，就有點像考試全部都出考古題，連數字都沒改，此時測試出來的準確度就有失公正。因此通常會將完整資料分為訓練資料（Training Data）與測試資料（Test Data），兩者之間不可以有任何的重疊，利用訓練資料來訓練，測試資料來測試模型的準確度。\n",
    "\n",
    "在此將訓練及測試資料切分為 8 : 2，後續會使用 CrossValidation 的方式進行參數選擇。"
   ]
  },
  {
   "cell_type": "code",
   "execution_count": 7,
   "id": "252c5b12",
   "metadata": {},
   "outputs": [],
   "source": [
    "X_train, X_test, y_train, y_test = train_test_split(X, y, test_size=0.2)"
   ]
  },
  {
   "cell_type": "markdown",
   "id": "a430e9a9",
   "metadata": {},
   "source": [
    "## 原始資料（有標準化）"
   ]
  },
  {
   "cell_type": "code",
   "execution_count": 8,
   "id": "92305ffa",
   "metadata": {},
   "outputs": [],
   "source": [
    "# Standardize data\n",
    "scaler = StandardScaler()\n",
    "X_train_ = scaler.fit_transform(X_train)\n",
    "X_test_ = scaler.fit_transform(X_test)"
   ]
  },
  {
   "cell_type": "markdown",
   "id": "9ab087f3",
   "metadata": {},
   "source": [
    "## 主成分資料\n",
    "由下方圖形可見取 10 個主成分就可以有 95\\% 原始資料的解釋能力，因此選擇 10 個主成分。"
   ]
  },
  {
   "cell_type": "code",
   "execution_count": 11,
   "id": "11db49ae",
   "metadata": {},
   "outputs": [
    {
     "data": {
      "image/png": "[encoded data removed]",
      "text/plain": [
       "<Figure size 1300x480 with 3 Axes>"
      ]
     },
     "metadata": {},
     "output_type": "display_data"
    },
    {
     "name": "stdout",
     "output_type": "stream",
     "text": [
      "CPU times: total: 562 ms\n",
      "Wall time: 1.23 s\n"
     ]
    }
   ],
   "source": [
    "%%time\n",
    "\n",
    "pca = PCA().fit(X_train_)\n",
    "\n",
    "fig, axes = plt.subplots(ncols=2, figsize=(13,4.8))\n",
    "x = np.arange(1,1+len(pca.explained_variance_))\n",
    "axes[0].plot(x, pca.explained_variance_, lw=2)\n",
    "# axes[0].set_xticks(x)\n",
    "axes[0].set_xlabel('Component Number', fontsize=12)\n",
    "axes[0].set_ylabel('Eigenvalues', fontsize=12)\n",
    "axes[0].grid(True)\n",
    "axes[0].set_title('Scree Plot', fontsize=16)\n",
    "\n",
    "axes[1].bar(x, pca.explained_variance_)\n",
    "ax2 = axes[1].twinx()\n",
    "ax2.plot(x, pca.explained_variance_ratio_.cumsum(), color='C1', lw=2)\n",
    "ax2.tick_params(axis='y', colors='#D94600')\n",
    "ax2.set_ylabel('Cumulative Percentage(%)', fontsize=12, color=\"#D94600\")\n",
    "axes[1].set_xlabel('Component Number', fontsize=12)\n",
    "axes[1].set_ylabel('Variance Explained', fontsize=12)\n",
    "axes[1].set_title('Pareto Plot', fontsize=16)\n",
    "\n",
    "plt.tight_layout()\n",
    "plt.show()"
   ]
  },
  {
   "cell_type": "code",
   "execution_count": 14,
   "id": "03674dae",
   "metadata": {},
   "outputs": [
    {
     "name": "stdout",
     "output_type": "stream",
     "text": [
      "取 112 個變數，解釋程度有達到 0.99 %\n"
     ]
    }
   ],
   "source": [
    "ratio = 0.99\n",
    "print(\"取 {} 個變數，解釋程度有達到 {} %\".format(sum(pca.explained_variance_ratio_.cumsum() < ratio)+1, ratio))\n",
    "n_comp = sum(pca.explained_variance_ratio_.cumsum() < ratio)+1"
   ]
  },
  {
   "cell_type": "code",
   "execution_count": 15,
   "id": "faba6fc7",
   "metadata": {},
   "outputs": [],
   "source": [
    "pca = PCA(n_components = n_comp).fit(X_train_)\n",
    "Z_train = pca.transform(X_train_)\n",
    "Z_test = pca.transform(X_test_)"
   ]
  },
  {
   "cell_type": "markdown",
   "id": "cc470e19",
   "metadata": {},
   "source": [
    "# 比較資料之間的表現\n",
    "\n",
    "以羅吉斯為例，對 3 種資料進行訓練及預測，紀錄測試資料的準確率及訓練時間。\n",
    "\n",
    "\n",
    "<font size=4> **評判標準** </font>\n",
    "\n",
    "- 準確率（accuracy）：\n",
    "\n",
    "- f1Score：\n",
    "\n",
    "- 運算時間：紀錄配適及預測時間，並不包含評分的時間，以秒為單位。\n",
    "\n",
    "## 原始資料無標準化"
   ]
  },
  {
   "cell_type": "code",
   "execution_count": 16,
   "id": "7b8394fc",
   "metadata": {},
   "outputs": [],
   "source": [
    "opts = dict(tol = 0.000001, max_iter = int(1e6))\n",
    "\n",
    "train = X_train;test = X_test\n",
    "df_want = pd.DataFrame()\n",
    "\n",
    "start_time = time.time()\n",
    "logistic_org = LogisticRegression(solver = 'newton-cg', **opts)\n",
    "logistic_org.fit(train, y_train)\n",
    "y_pred = logistic_org.predict(test)\n",
    "end_time = time.time()\n",
    "# 紀錄要用的資訊\n",
    "tmpdf = pd.DataFrame(data = {'Method':['Logistic'], 'accuracy':[accuracy_score(y_test, y_pred)], \n",
    "      'f1score':[f1_score(y_test, y_pred, average='weighted')], \n",
    "      'time':[(end_time - start_time)], 'data':['原始資料（無標準化）'],\n",
    "      'solver':['lbfgs']})\n",
    "df_want = pd.concat([df_want, tmpdf], ignore_index=True)"
   ]
  },
  {
   "cell_type": "markdown",
   "id": "34b75d3c",
   "metadata": {},
   "source": [
    "## 原始資料有標準化"
   ]
  },
  {
   "cell_type": "code",
   "execution_count": 17,
   "id": "3dfb4be4",
   "metadata": {},
   "outputs": [],
   "source": [
    "opts = dict(tol = 0.000001, max_iter = int(1e6))\n",
    "\n",
    "train = X_train_;test = X_test_\n",
    "\n",
    "start_time = time.time()\n",
    "logistic_org = LogisticRegression(solver = 'newton-cg', **opts)\n",
    "logistic_org.fit(train, y_train)\n",
    "y_pred = logistic_org.predict(test)\n",
    "end_time = time.time()\n",
    "# 紀錄要用的資訊\n",
    "tmpdf = pd.DataFrame(data = {'Method':['Logistic'], 'accuracy':[accuracy_score(y_test, y_pred)], \n",
    "      'f1score':[f1_score(y_test, y_pred, average='weighted')], \n",
    "      'time':[(end_time - start_time)], 'data':['原始資料（有標準化）'],\n",
    "      'solver':['lbfgs']})\n",
    "df_want = pd.concat([df_want, tmpdf], ignore_index=True)"
   ]
  },
  {
   "cell_type": "markdown",
   "id": "7ec0616a",
   "metadata": {},
   "source": [
    "## 主成分資料"
   ]
  },
  {
   "cell_type": "code",
   "execution_count": 18,
   "id": "82dc90f6",
   "metadata": {},
   "outputs": [],
   "source": [
    "opts = dict(tol = 0.000001, max_iter = int(1e6))\n",
    "\n",
    "train = Z_train;test = Z_test\n",
    "\n",
    "start_time = time.time()\n",
    "logistic_org = LogisticRegression(solver = 'newton-cg', **opts)\n",
    "logistic_org.fit(train, y_train)\n",
    "y_pred = logistic_org.predict(test)\n",
    "end_time = time.time()\n",
    "# 紀錄要用的資訊\n",
    "tmpdf = pd.DataFrame(data = {'Method':['Logistic'], 'accuracy':[accuracy_score(y_test, y_pred)], \n",
    "      'f1score':[f1_score(y_test, y_pred, average='weighted')], \n",
    "      'time':[(end_time - start_time)], 'data':['10 個主成分資料'],\n",
    "      'solver':['lbfgs']})\n",
    "df_want = pd.concat([df_want, tmpdf], ignore_index=True)"
   ]
  },
  {
   "cell_type": "markdown",
   "id": "f7f666cd",
   "metadata": {},
   "source": [
    "## <font color=darkred>比較結果</font>\n",
    "\n",
    "由下方表格可知，表格中的 time 為執行的時間，是以秒為單位。由於資料量少，因此在運算效率上並沒有太大的差異，只能些微比較出主成分資料有保持原始資料的準確率，後續分類器的參數設定會由主成分資料來進行。"
   ]
  },
  {
   "cell_type": "code",
   "execution_count": 19,
   "id": "45e7b2cd",
   "metadata": {},
   "outputs": [
    {
     "data": {
      "text/html": [
       "<div>\n",
       "<style scoped>\n",
       "    .dataframe tbody tr th:only-of-type {\n",
       "        vertical-align: middle;\n",
       "    }\n",
       "\n",
       "    .dataframe tbody tr th {\n",
       "        vertical-align: top;\n",
       "    }\n",
       "\n",
       "    .dataframe thead th {\n",
       "        text-align: right;\n",
       "    }\n",
       "</style>\n",
       "<table border=\"1\" class=\"dataframe\">\n",
       "  <thead>\n",
       "    <tr style=\"text-align: right;\">\n",
       "      <th></th>\n",
       "      <th>Method</th>\n",
       "      <th>accuracy</th>\n",
       "      <th>f1score</th>\n",
       "      <th>time</th>\n",
       "      <th>data</th>\n",
       "      <th>solver</th>\n",
       "    </tr>\n",
       "  </thead>\n",
       "  <tbody>\n",
       "    <tr>\n",
       "      <th>0</th>\n",
       "      <td>Logistic</td>\n",
       "      <td>0.9500</td>\n",
       "      <td>0.949147</td>\n",
       "      <td>12.052063</td>\n",
       "      <td>原始資料（無標準化）</td>\n",
       "      <td>lbfgs</td>\n",
       "    </tr>\n",
       "    <tr>\n",
       "      <th>1</th>\n",
       "      <td>Logistic</td>\n",
       "      <td>0.9625</td>\n",
       "      <td>0.966111</td>\n",
       "      <td>6.225827</td>\n",
       "      <td>原始資料（有標準化）</td>\n",
       "      <td>lbfgs</td>\n",
       "    </tr>\n",
       "    <tr>\n",
       "      <th>2</th>\n",
       "      <td>Logistic</td>\n",
       "      <td>0.9750</td>\n",
       "      <td>0.980000</td>\n",
       "      <td>0.443511</td>\n",
       "      <td>10 個主成分資料</td>\n",
       "      <td>lbfgs</td>\n",
       "    </tr>\n",
       "  </tbody>\n",
       "</table>\n",
       "</div>"
      ],
      "text/plain": [
       "     Method  accuracy   f1score       time        data solver\n",
       "0  Logistic    0.9500  0.949147  12.052063  原始資料（無標準化）  lbfgs\n",
       "1  Logistic    0.9625  0.966111   6.225827  原始資料（有標準化）  lbfgs\n",
       "2  Logistic    0.9750  0.980000   0.443511   10 個主成分資料  lbfgs"
      ]
     },
     "execution_count": 19,
     "metadata": {},
     "output_type": "execute_result"
    }
   ],
   "source": [
    "df_want"
   ]
  },
  {
   "cell_type": "code",
   "execution_count": 20,
   "id": "3bb74921",
   "metadata": {},
   "outputs": [],
   "source": [
    "train = Z_train; test = Z_test"
   ]
  },
  {
   "cell_type": "markdown",
   "id": "48a45e2d",
   "metadata": {},
   "source": [
    "# 分類器參數設定\n",
    "\n",
    "本節旨在找到各分類器最佳的參數設定，會將訓練資料（整體資料的 80\\%）進行交叉驗證，利用準確率及 f1score 找出最好的參數。\n",
    "\n",
    "<font size=4> **CrossValidation** </font>\n",
    "\n",
    "k 折交叉驗證（k-fold cross-validation），將訓練資料切割成 k 份資料，保留 1 份作為驗證模型的資料，將其餘 k-1 份用來訓練模型，進行 k 次交叉驗證，讓每份資料都有機會驗證一次，其運作方式如下圖所示。 <br>\n",
    "\n",
    "\n",
    "<div>\n",
    "<img src=\"https://i.imgur.com/SoH3X9z.png\" width=\"500\"/>\n",
    "</div>\n",
    "\n",
    "\n",
    "<font size=4> **評判標準** </font>\n",
    "\n",
    "- 準確率（accuracy）：\n",
    "\n",
    "- f1Score：\n",
    "\n",
    "- 運算時間：紀錄模型配飾時間，並不包含評分的時間，以秒為單位。\n",
    "\n",
    "【使用程式】\n",
    "\n",
    "- `StratifiedShuffleSplit` : 切割資料，設定 random_state 固定切割的方式才能比較！\n",
    "\n",
    "- `GridSearchCV` : 執行所有參數，並找出最佳參數\n",
    "## 多元羅吉斯迴歸\n",
    "\n",
    "**<font size=4>參數調整</font>**\n",
    "\n",
    "多元羅吉斯迴歸在 sklearn 套件中的指令為 `sklearn.linear_model`，指令為 `LogisticRegression`。有不同的演算法（`solver`）可以調整，可以選擇 lbfgs、liblinear、newton-cg、sag、saga，預設為 lbfgs。\n",
    "\n",
    "- liblinear 適合小的資料集，而 sag 和 saga 適合大型資料，因為運算時間更快\n",
    "\n",
    "- 針對多類別的反應變數，只有 newton-cg、sag、saga、lbfgs，可以計算 multinomial loss\n",
    "\n",
    "- liblinear 是 one-versus-rest 的方法\n",
    "\n",
    "各演算法可以使用的懲罰項：\n",
    "- lbfgs : l2, None\n",
    "- liblinear : l1, l2\n",
    "- newton-cg : l2, None\n",
    "- sag : l2, None\n",
    "- saga : elasticnet, l1, l2, None"
   ]
  },
  {
   "cell_type": "code",
   "execution_count": 21,
   "id": "ae90745f",
   "metadata": {
    "scrolled": true
   },
   "outputs": [],
   "source": [
    "opts = dict(tol = 0.000001, max_iter = int(1e6))\n",
    "parameters = {'solver':['lbfgs', 'liblinear', 'newton-cg','sag','saga']}\n",
    "\n",
    "cv = StratifiedShuffleSplit(n_splits=5, test_size=0.2, random_state=123)\n",
    "grid = GridSearchCV(LogisticRegression(tol=0.000001, max_iter=int(1e6)), param_grid=parameters, cv=cv, \n",
    "                    scoring=['accuracy','f1_macro'], refit=\"accuracy\")\n",
    "grid.fit(train, y_train)\n",
    "df_want_logistic = pd.DataFrame(data = grid.cv_results_)"
   ]
  },
  {
   "cell_type": "code",
   "execution_count": 22,
   "id": "79be694f",
   "metadata": {
    "scrolled": true
   },
   "outputs": [
    {
     "data": {
      "text/html": [
       "<div>\n",
       "<style scoped>\n",
       "    .dataframe tbody tr th:only-of-type {\n",
       "        vertical-align: middle;\n",
       "    }\n",
       "\n",
       "    .dataframe tbody tr th {\n",
       "        vertical-align: top;\n",
       "    }\n",
       "\n",
       "    .dataframe thead th {\n",
       "        text-align: right;\n",
       "    }\n",
       "</style>\n",
       "<table border=\"1\" class=\"dataframe\">\n",
       "  <thead>\n",
       "    <tr style=\"text-align: right;\">\n",
       "      <th></th>\n",
       "      <th>param_solver</th>\n",
       "      <th>mean_test_accuracy</th>\n",
       "      <th>mean_test_f1_macro</th>\n",
       "      <th>mean_fit_time</th>\n",
       "      <th>mean_fit_time</th>\n",
       "    </tr>\n",
       "  </thead>\n",
       "  <tbody>\n",
       "    <tr>\n",
       "      <th>0</th>\n",
       "      <td>lbfgs</td>\n",
       "      <td>0.968750</td>\n",
       "      <td>0.962000</td>\n",
       "      <td>0.472725</td>\n",
       "      <td>0.472725</td>\n",
       "    </tr>\n",
       "    <tr>\n",
       "      <th>1</th>\n",
       "      <td>liblinear</td>\n",
       "      <td>0.962500</td>\n",
       "      <td>0.942000</td>\n",
       "      <td>0.363390</td>\n",
       "      <td>0.363390</td>\n",
       "    </tr>\n",
       "    <tr>\n",
       "      <th>2</th>\n",
       "      <td>newton-cg</td>\n",
       "      <td>0.968750</td>\n",
       "      <td>0.962000</td>\n",
       "      <td>0.374084</td>\n",
       "      <td>0.374084</td>\n",
       "    </tr>\n",
       "    <tr>\n",
       "      <th>3</th>\n",
       "      <td>sag</td>\n",
       "      <td>0.965625</td>\n",
       "      <td>0.958667</td>\n",
       "      <td>22.238910</td>\n",
       "      <td>22.238910</td>\n",
       "    </tr>\n",
       "    <tr>\n",
       "      <th>4</th>\n",
       "      <td>saga</td>\n",
       "      <td>0.965625</td>\n",
       "      <td>0.958667</td>\n",
       "      <td>41.159902</td>\n",
       "      <td>41.159902</td>\n",
       "    </tr>\n",
       "  </tbody>\n",
       "</table>\n",
       "</div>"
      ],
      "text/plain": [
       "  param_solver  mean_test_accuracy  mean_test_f1_macro  mean_fit_time   \n",
       "0        lbfgs            0.968750            0.962000       0.472725  \\\n",
       "1    liblinear            0.962500            0.942000       0.363390   \n",
       "2    newton-cg            0.968750            0.962000       0.374084   \n",
       "3          sag            0.965625            0.958667      22.238910   \n",
       "4         saga            0.965625            0.958667      41.159902   \n",
       "\n",
       "   mean_fit_time  \n",
       "0       0.472725  \n",
       "1       0.363390  \n",
       "2       0.374084  \n",
       "3      22.238910  \n",
       "4      41.159902  "
      ]
     },
     "execution_count": 22,
     "metadata": {},
     "output_type": "execute_result"
    }
   ],
   "source": [
    "df_want_logistic.loc[:,['param_solver', 'mean_test_accuracy', 'mean_test_f1_macro','mean_fit_time','mean_fit_time']]"
   ]
  },
  {
   "cell_type": "markdown",
   "id": "24d039d0",
   "metadata": {},
   "source": [
    "## 支援向量機（Support Vector Machine，SVM）\n",
    "\n",
    "SVM是一種用於分類和回歸分析的機器學習算法。在分類問題中，SVM嘗試在找到兩類數據點之間最佳分離超平面（hyperplane），以二維來說超平面就是一條線，以三維來說超平面就是一個面，如下圖所示。\n",
    "\n",
    "<div>\n",
    "<img src=\"https://miro.medium.com/v2/resize:fit:1400/format:webp/1*FwrX8viaCLljRAAxiSAp8Q.png\" width=\"600\"/>\n",
    "</div>\n",
    "\n",
    "至於怎麼找出 hyperplane 可以參考 [SVM 支援向量機演算法-原理篇](https://iter01.com/582104.html)。\n",
    "\n",
    "**<font size=4>參數調整</font>**\n",
    "\n",
    "SVM 在 sklearn 套件中的指令為 `sklearn.svm`，在此我們使用到之中的 `SVC`，也就是應用在分類問題的 SVM。下方列出 `SVC` 中重要的調整參數及它們的意義。\n",
    "\n",
    "- `C` : 懲罰係數，就是對誤差的容忍度，預設為 1。<br>\n",
    "    C 越高，越不能接受誤差，容易過度配適（Overfitting），反之，C越小，接受的誤差太大，就會發生配適不足（Underfitting）的情況。\n",
    "\n",
    "\n",
    "- `kernel` : 核函式，linear、poly、rbf、sigmoid，預測為 rbf。<br>\n",
    "    kernel 就是上述文章提到的**核函式**，可以將樣本從低維空間對映到高維空間，讓 SVM 可以處理非線性問題，是 SVM 中的核心角色。其中每個核函式皆會有不同的參數需要調整，SVM 的參數選擇看起來很多，但其實是因為每個核函式要調整參數不同，接著介紹核函式及需要調整的參數。\n",
    "\n",
    "    - linear : 線性函式\n",
    "       \n",
    "    - sigmoid : S 型內核\n",
    "    \n",
    "    - poly : 多項函式，會使用到參數 degree、gamma、coef0。\n",
    "\n",
    "    - rbf : \n",
    "        \n",
    "        \n",
    "- `degree` : 調整多項式的最高次方，預設為 3，只有在 `kernel='ploy'` 時會用到。\n",
    "\n",
    "\n",
    "- `gamma` : 單筆資料的影響範圍，scale、auto、非負小數，預設為 scale，只有在核函數是非線性函式會用到，像是：poly、rbf、sigmoid。<br>\n",
    "    **低代表遠，高則代表近**，因此 gamma 越小，計算 hyperplane 考量到的支援向量就越多，反之。\n",
    "    \n",
    "    - scale : $\\frac{1}{nfeatures \\times X.var()}$\n",
    "    \n",
    "    - auto : $\\frac{1}{nfeatures}$\n",
    "\n",
    "\n",
    "- `decision_function_shape` : 決策函數，ovr 或 ovo，預設為 ovr。\n",
    "    \n",
    "    - ovr : one-vs-rest，每個群組在建立 hyperplane 時是以其他全部群組作為對立面，可以不用運算那麼多次，但就會是不平衡資料。\n",
    "    \n",
    "    - ovo : one-vs-one，每個群組在建立 hyperplane 時是以其他個別群組作為對立面，要運算較多次。"
   ]
  },
  {
   "cell_type": "code",
   "execution_count": 23,
   "id": "32ad4188",
   "metadata": {},
   "outputs": [],
   "source": [
    "def boxplotset(xcol, ycol, df_want):\n",
    "    draw_dict = {}\n",
    "    for i in np.sort(list(set(df_want[xcol]))):\n",
    "        draw_dict[i] = df_want.loc[df_want[xcol]==i, ycol]\n",
    "    plt.boxplot([i for i in draw_dict.values()], labels=[str(i) for i in draw_dict.keys()])\n",
    "    plt.ylabel(ycol)\n",
    "    plt.xlabel(xcol)\n",
    "    plt.show()"
   ]
  },
  {
   "cell_type": "markdown",
   "id": "5dec9f6e",
   "metadata": {},
   "source": [
    "### 決策函數"
   ]
  },
  {
   "cell_type": "code",
   "execution_count": 24,
   "id": "75b92c27",
   "metadata": {
    "scrolled": true
   },
   "outputs": [
    {
     "name": "stdout",
     "output_type": "stream",
     "text": [
      "The best parameters are {'C': 10, 'decision_function_shape': 'ovr', 'gamma': 0.0001} with a score of 0.97\n"
     ]
    }
   ],
   "source": [
    "C_range = [1, 10, 100, 1000]\n",
    "gamma_range = np.logspace(-4, 1, 6)\n",
    "parameters = {'decision_function_shape':('ovr','ovo'), 'C':C_range, 'gamma':gamma_range}\n",
    "\n",
    "cv = StratifiedShuffleSplit(n_splits=5, test_size=0.2, random_state=123)\n",
    "grid = GridSearchCV(SVC(tol=0.000001, max_iter=int(1e6)), param_grid=parameters, cv=cv, \n",
    "                    scoring=['accuracy','f1_macro'], refit=\"accuracy\")\n",
    "grid.fit(train, y_train)\n",
    "df_want = pd.DataFrame(data = grid.cv_results_)\n",
    "print(\"The best parameters are %s with a score of %0.2f\" % (grid.best_params_, grid.best_score_))"
   ]
  },
  {
   "cell_type": "markdown",
   "id": "b438073f",
   "metadata": {},
   "source": [
    "<font size=4 color=darkred>【決策函數選擇】</font>\n",
    "\n",
    "`mean_fit_time` 是配適時間，以秒為單位，紅酒資料中的類別只有 3 類，並沒有太多類別，而且資料筆數少，所以執行時間上並不會有太大的差距。因此選擇哪種決策函數都可！"
   ]
  },
  {
   "cell_type": "code",
   "execution_count": 25,
   "id": "d8ddb443",
   "metadata": {
    "scrolled": false
   },
   "outputs": [
    {
     "data": {
      "image/png": "[encoded data removed]",
      "text/plain": [
       "<Figure size 640x480 with 1 Axes>"
      ]
     },
     "metadata": {},
     "output_type": "display_data"
    }
   ],
   "source": [
    "boxplotset('param_decision_function_shape', 'mean_fit_time', df_want)"
   ]
  },
  {
   "cell_type": "markdown",
   "id": "6705d69c",
   "metadata": {},
   "source": [
    "### 其他參數\n"
   ]
  },
  {
   "cell_type": "code",
   "execution_count": null,
   "id": "855178b3",
   "metadata": {
    "scrolled": true
   },
   "outputs": [],
   "source": [
    "C_range = [0.01, 0.1, 1, 10, 100]\n",
    "gamma_range = [1, 10]\n",
    "\n",
    "parameters = [{'kernel': ['linear'], 'C':C_range}, \n",
    "              {'kernel': ['rbf', 'sigmoid'], 'gamma':gamma_range, 'C':C_range},\n",
    "              {'kernel': ['poly'], 'gamma':gamma_range, 'C':C_range, 'degree':[2,3,4,5,6]}]\n",
    "\n",
    "cv = StratifiedShuffleSplit(n_splits=5, test_size=0.2, random_state=123)\n",
    "grid = GridSearchCV(SVC(tol=0.000001, max_iter=int(1e6)), param_grid=parameters, cv=cv, \n",
    "                    scoring=['accuracy','f1_macro'], refit=\"accuracy\")\n",
    "grid.fit(train, y_train)\n",
    "\n",
    "df_want_SVM = pd.DataFrame(data = grid.cv_results_)\n",
    "print(\"The best parameters are %s with an accuracy of %0.2f\" % (grid.best_params_, grid.best_score_))"
   ]
  },
  {
   "cell_type": "code",
   "execution_count": null,
   "id": "3d38e65e",
   "metadata": {
    "scrolled": true
   },
   "outputs": [],
   "source": [
    "df_want_SVM.loc[df_want_SVM['mean_test_f1_macro']==df_want_SVM['mean_test_f1_macro'].max(),['params', 'mean_test_f1_macro']]"
   ]
  },
  {
   "cell_type": "code",
   "execution_count": null,
   "id": "a9826559",
   "metadata": {
    "scrolled": true
   },
   "outputs": [],
   "source": [
    "df_want_SVM.loc[df_want_SVM['mean_test_accuracy']==df_want_SVM['mean_test_accuracy'].max(),['params', 'mean_test_accuracy', 'mean_test_f1_macro']]"
   ]
  },
  {
   "cell_type": "code",
   "execution_count": 37,
   "id": "5d65f6c7",
   "metadata": {},
   "outputs": [
    {
     "data": {
      "image/png": "[encoded data removed]",
      "text/plain": [
       "<Figure size 800x500 with 1 Axes>"
      ]
     },
     "metadata": {},
     "output_type": "display_data"
    }
   ],
   "source": [
    "plt.figure(figsize=(8,5))\n",
    "sns.boxplot(data=df_want_SVM, x='param_C', y='mean_test_accuracy', hue='param_kernel')\n",
    "plt.show()"
   ]
  },
  {
   "cell_type": "markdown",
   "id": "69565c30",
   "metadata": {},
   "source": [
    "<font size=4 color=darkred>【參數選擇結果】</font>\n",
    "\n",
    "從上述可知，最佳參數為使用線性核函數以及 0.1 的懲罰係數，有高達 97\\% 的正確率及 0.97 的 f1score。但在不同參數組合之下，都會影響準確率的好壞，因此，利用 `GridSearchCV` 對所有參數進行驗證，挑出最好的，作為後續模型比較的參考！"
   ]
  },
  {
   "cell_type": "code",
   "execution_count": 28,
   "id": "4a6405c2",
   "metadata": {},
   "outputs": [
    {
     "name": "stdout",
     "output_type": "stream",
     "text": [
      "模型參數：{'C': 0.01, 'kernel': 'linear'}\n",
      "準確率為 : 95.0 %\n",
      "f1score 為 : 95.12 %\n"
     ]
    }
   ],
   "source": [
    "print(\"模型參數：{}\".format(grid.best_params_))\n",
    "opts = grid.best_params_\n",
    "\n",
    "svm = SVC( **opts)\n",
    "svm.fit(train, y_train)\n",
    "y_pred = svm.predict(test) \n",
    "\n",
    "print('準確率為 : {} %'.format(np.round(accuracy_score(y_test, y_pred)*100,2)))\n",
    "print('f1score 為 : {} %'.format(np.round(f1_score(y_test, y_pred, average='weighted')*100,2)))"
   ]
  },
  {
   "cell_type": "markdown",
   "id": "18773c0c",
   "metadata": {},
   "source": [
    "## 神經網路（Neural Network，NN）\n",
    "類神經網路是用類似神經傳導的方式來尋找資料的規律，以視覺為例，其傳導路徑為眼睛看到物體 → 視網膜（刺激光感受器細胞） → 視神經（傳導至大腦） → 大腦（判斷看到的物體），而類神經網路的執行方式與此相似。典型的類神經網路具有以下三個部分：\n",
    "1. 輸入端（Input）<br>\n",
    "    輸入端為一開始輸入的資料，像是眼睛看到物體的步驟，輸入的資料可以不只一個，下圖中的黃色部分即為輸入端。\n",
    "    \n",
    "2. 隱藏層（Hidden Layer）<br>\n",
    "    隱藏層為中間的處理過程，通常隱藏層會使用數學函式進行轉換或判斷，像是視網膜的刺激、視神經的傳導以及大腦判斷，隱藏層可以有一層以上，1圖中藍色及綠色部分即為隱藏層。\n",
    "    \n",
    "3. 輸出層（Output Layter）<br>\n",
    "    輸出層就是最後判斷的結果，像是大腦判斷看見的物體是手機，輸出層也可以有多個，下圖中的粉紅色部分即為輸出層。\n",
    "\n",
    "![image-2.png](https://miro.medium.com/v2/resize:fit:720/format:webp/1*6AxEGdJGViO8oF-YPXkQag.png)\n",
    "\n",
    "**<font size=4>參數調整</font>**\n",
    "\n",
    "神經網路在 sklearn 套件中的指令為 `sklearn.neural_network`，我們使用到指令 `MLPClassifier`，也就是應用在分類問題的神經網路。下方列出重要的調整參數及意義。\n",
    "\n",
    "- `activation` : 激活函數，可選擇 identity, logistic, tanh, relu，預設為 relu。<br>\n",
    "    激活函數最主要的目的就是在神經網路中加入非線性的部分，詳細函數的型態請參考下圖。\n",
    "    \n",
    "    <div>\n",
    "<img src=\"https://1394217531-files.gitbook.io/~/files/v0/b/gitbook-legacy-files/o/assets%2F-LvBP1svpACTB1R1x_U4%2F-LvNWUoWieQqaGmU_gl9%2F-LvO3qs2RImYjpBE8vln%2Factivation-functions3.jpg?alt=media&token=f96a3007-5888-43c3-a256-2dafadd5df7c\" width=\"500\"/>\n",
    "</div>\n",
    "\n",
    "- `solver` : 權重優化的演算法，可選擇 lbfgs, sgd, adam，預設為 adam。<br>\n",
    "    - lbfgs :  family of quasi-Newton methods\n",
    "    - sgd : refers to stochastic gradient descent\n",
    "    - adam : refers to a stochastic gradient-based optimizer proposed by Kingma, Diederik, and Jimmy Ba\n",
    "\n",
    "- `hidden_layer_sizes` : (神經元的個數, 隱藏層層數)，設定模型的複雜度，看要有幾個和幾層神經元。<br>\n",
    "    要特別注意的是 Sklearn 的隱藏層不包含輸出層，預設為(100,)，也就是只有一層100 個神經元的隱藏層。"
   ]
  },
  {
   "cell_type": "code",
   "execution_count": 39,
   "id": "dd6e3e20",
   "metadata": {},
   "outputs": [],
   "source": [
    "import warnings\n",
    "from sklearn.exceptions import ConvergenceWarning\n",
    "with warnings.catch_warnings():\n",
    "    warnings.filterwarnings(\"ignore\", category=ConvergenceWarning)"
   ]
  },
  {
   "cell_type": "code",
   "execution_count": null,
   "id": "d691820c",
   "metadata": {},
   "outputs": [],
   "source": [
    "activ_range = ['identity', 'logistic', 'tanh', 'relu']\n",
    "solver = ['lbfgs', 'sgd', 'adam']\n",
    "\n",
    "\n",
    "parameters = {'activation': activ_range, 'solver':solver, \n",
    "               'hidden_layer_sizes':[(i,) for i in np.arange(5, 41, 5)]}\n",
    "\n",
    "cv = StratifiedShuffleSplit(n_splits=5, test_size=0.2, random_state=123)\n",
    "grid = GridSearchCV(MLPClassifier(tol=0.000001, max_iter=int(1e7)), param_grid=parameters, cv=cv, \n",
    "                    scoring=['accuracy','f1_macro'], refit=\"accuracy\")\n",
    "grid.fit(train, y_train)\n",
    "\n",
    "df_want_NN = pd.DataFrame(data = grid.cv_results_)\n",
    "df_want_NN['nodes'] = [i[0] for i in df_want_NN['param_hidden_layer_sizes']]\n",
    "print(\"The best parameters are %s with an accuracy of %0.2f\" % (grid.best_params_, grid.best_score_))"
   ]
  },
  {
   "cell_type": "markdown",
   "id": "0eeb62f4",
   "metadata": {},
   "source": [
    "<font size=4 color=darkred>【參數選擇結果】</font>\n",
    "\n",
    "\n",
    "從上述可知，最佳參數為：使用 35 個神經元、relu 激活函式、adam 演算法，有高達 98\\% 的正確率及 0.98 的 f1score。\n",
    "\n",
    "由下兩張圖可以觀察到不同神經元個數在不同激活函式及演算法下的表現狀況，可以明顯觀察出以下幾點：\n",
    "\n",
    "- 神經元個數等於 35 明顯優於其他\n",
    "- 在 35 個神經元時，激活函數 relu 有最佳的表現，但沒有 tanh 穩定。\n",
    "- 在 35 個神經元時，演算法 adam 有最佳的表現，但沒有 sgd 穩定。\n",
    "\n",
    "但在不同參數組合之下，都會影響準確率的好壞，因此，利用 `GridSearchCV` 對所有參數進行驗證，挑出最好的，作為後續模型比較的參考！"
   ]
  },
  {
   "cell_type": "code",
   "execution_count": 33,
   "id": "f2c9f148",
   "metadata": {},
   "outputs": [
    {
     "data": {
      "image/png": "[encoded data removed]",
      "text/plain": [
       "<Figure size 800x500 with 1 Axes>"
      ]
     },
     "metadata": {},
     "output_type": "display_data"
    }
   ],
   "source": [
    "plt.figure(figsize=(8,5))\n",
    "sns.boxplot(data=df_want_NN, x='nodes', y='mean_test_accuracy', hue='param_activation')\n",
    "plt.show()"
   ]
  },
  {
   "cell_type": "code",
   "execution_count": 34,
   "id": "a7cfa6e5",
   "metadata": {},
   "outputs": [
    {
     "data": {
      "image/png": "[encoded data removed]",
      "text/plain": [
       "<Figure size 800x500 with 1 Axes>"
      ]
     },
     "metadata": {},
     "output_type": "display_data"
    }
   ],
   "source": [
    "plt.figure(figsize=(8,5))\n",
    "sns.boxplot(data=df_want_NN, x='nodes', y='mean_test_accuracy', hue='param_solver')\n",
    "plt.show()"
   ]
  },
  {
   "cell_type": "markdown",
   "id": "3bc4f7a2",
   "metadata": {},
   "source": [
    "# 學習器評比"
   ]
  },
  {
   "cell_type": "code",
   "execution_count": null,
   "id": "2ce9a6e5",
   "metadata": {},
   "outputs": [],
   "source": []
  }
 ],
 "metadata": {
  "kernelspec": {
   "display_name": "Python 3 (ipykernel)",
   "language": "python",
   "name": "python3"
  },
  "language_info": {
   "codemirror_mode": {
    "name": "ipython",
    "version": 3
   },
   "file_extension": ".py",
   "mimetype": "text/x-python",
   "name": "python",
   "nbconvert_exporter": "python",
   "pygments_lexer": "ipython3",
   "version": "3.9.0"
  },
  "toc": {
   "base_numbering": 1,
   "nav_menu": {},
   "number_sections": true,
   "sideBar": true,
   "skip_h1_title": false,
   "title_cell": "Table of Contents",
   "title_sidebar": "Contents",
   "toc_cell": false,
   "toc_position": {
    "height": "calc(100% - 180px)",
    "left": "10px",
    "top": "150px",
    "width": "383.991px"
   },
   "toc_section_display": true,
   "toc_window_display": true
  }
 },
 "nbformat": 4,
 "nbformat_minor": 5
}
