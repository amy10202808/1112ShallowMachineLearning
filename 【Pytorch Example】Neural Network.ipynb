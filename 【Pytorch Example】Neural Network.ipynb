{
 "cells": [
  {
   "cell_type": "code",
   "execution_count": 8,
   "id": "2650cd27",
   "metadata": {},
   "outputs": [],
   "source": [
    "import torch\n",
    "import numpy as np\n",
    "import pandas as pd\n",
    "from torch.utils.data import DataLoader, TensorDataset\n",
    "from sklearn.model_selection import train_test_split\n",
    "import torch.nn as nn\n",
    "import torch.nn.functional as F"
   ]
  },
  {
   "cell_type": "code",
   "execution_count": 3,
   "id": "2c7b6a2c",
   "metadata": {},
   "outputs": [],
   "source": [
    "datafile = r'C:\\Course\\1112ShallowMachineLearning\\data'"
   ]
  },
  {
   "cell_type": "markdown",
   "id": "5fd53416",
   "metadata": {},
   "source": [
    "## Step 01 : 準備資料\n",
    "\n",
    "- DataLoader\n",
    "    - batch_size：[【QA】在深度學習中，Batch Size 是甚麼？ - Cupoy](https://www.cupoy.com/qa/club/ai_tw/0000017641AC7FE7000000016375706F795F72656C656173654B5741535354434C5542/000001810E8E9598000000046375706F795F72656C656173655155455354)\n",
    "    - shuffle：每次的 batch 要不要洗牌，test data 不用洗，因為只要預測沒有要訓練"
   ]
  },
  {
   "cell_type": "code",
   "execution_count": 4,
   "id": "0d8aec41",
   "metadata": {},
   "outputs": [],
   "source": [
    "df = pd.read_csv(datafile + r'\\face_data.csv')\n",
    "n_persons = df['target'].nunique() \n",
    "X = np.array(df.drop('target', axis=1)) # 400 x 4096\n",
    "y = np.array(df['target'])\n",
    " \n",
    "test_size = 0.3\n",
    "X_train, X_test, y_train, y_test = train_test_split(X, y, test_size=test_size) # deafult test_size=0.25\n",
    " \n",
    "# prepare data for PyTorch Tensor\n",
    "X_train = torch.from_numpy(X_train).float() # convert to float tensor\n",
    "y_train = torch.from_numpy(y_train).float() # \n",
    "train_dataset = TensorDataset(X_train, y_train) # create your datset\n",
    "X_test = torch.from_numpy(X_test).float()\n",
    "y_test = torch.from_numpy(y_test).float()\n",
    "test_dataset = TensorDataset(X_test, y_test) # create your datset\n",
    " \n",
    "# create dataloader for PyTorch\n",
    "batch_size = 64 # 32, 64, 128, 256\n",
    "train_loader = DataLoader(train_dataset, batch_size=batch_size, shuffle=True) # convert to dataloader\n",
    "test_loader = DataLoader(test_dataset, batch_size=len(X_test), shuffle=False)"
   ]
  },
  {
   "cell_type": "markdown",
   "id": "ffd9f9c0",
   "metadata": {},
   "source": [
    "## Step 02 : 設定 NN 模型\n",
    "[1 - Multilayer Perceptron.ipynb - Colaboratory (google.com)](https://colab.research.google.com/github/bentrevett/pytorch-image-classification/blob/master/1_mlp.ipynb)\n",
    "\n",
    "- 習慣在定義要做甚麼的時候（__init__），用 nn 底下的 function。\n",
    "- 在輸出的時候，習慣用 nn.functional 中的 F"
   ]
  },
  {
   "cell_type": "code",
   "execution_count": 9,
   "id": "c205c42f",
   "metadata": {},
   "outputs": [
    {
     "name": "stdout",
     "output_type": "stream",
     "text": [
      "Using cuda device\n",
      "MLP(\n",
      "  (mlp): Sequential(\n",
      "    (0): Linear(in_features=4096, out_features=512, bias=True)\n",
      "    (1): ReLU()\n",
      "    (2): Linear(in_features=512, out_features=40, bias=True)\n",
      "  )\n",
      ")\n"
     ]
    }
   ],
   "source": [
    "# select device\n",
    "device = torch.device('cuda' if torch.cuda.is_available() else 'cpu')\n",
    "# device = \"cpu\" # run faster than cuda in some cases\n",
    "print(\"Using {} device\".format(device))\n",
    " \n",
    "# Create a neural network\n",
    "class MLP(nn.Module):\n",
    "    def __init__(self):\n",
    "        super(MLP, self).__init__()\n",
    "        self.mlp = nn.Sequential(\n",
    "            nn.Linear(64*64, 512), # image length 64x64=4096,  fully connected layer\n",
    "            nn.ReLU(), # try to take ReLU out to see what happen\n",
    "            # nn.Linear(512, 512), # second hidden layer\n",
    "            # nn.ReLU(),\n",
    "            nn.Linear(512, 40) # 10 classes,  fully connected layer\n",
    "            # nn.Softmax()\n",
    "        )\n",
    "    # Specify how data will pass through this model\n",
    "    def forward(self, x):\n",
    "        # out = self.mlp(x) \n",
    "        # Apply softmax to x here~\n",
    "        x = self.mlp(x)\n",
    "        out = F.log_softmax(x, dim=1) # it’s faster and has better numerical propertie than softmax\n",
    "        # out = F.softmax(x, dim=1)\n",
    "        return out\n",
    "    \n",
    "# define model, optimizer, loss function\n",
    "model = MLP().to(device) # start an instance\n",
    "optimizer = torch.optim.Adam(model.parameters(), lr=0.001) # default lreaning rate=1e-3\n",
    "loss_fun = nn.CrossEntropyLoss() # define loss function\n",
    " \n",
    "print(model)"
   ]
  },
  {
   "cell_type": "code",
   "execution_count": null,
   "id": "769362e5",
   "metadata": {},
   "outputs": [],
   "source": []
  }
 ],
 "metadata": {
  "kernelspec": {
   "display_name": "Python 3 (ipykernel)",
   "language": "python",
   "name": "python3"
  },
  "language_info": {
   "codemirror_mode": {
    "name": "ipython",
    "version": 3
   },
   "file_extension": ".py",
   "mimetype": "text/x-python",
   "name": "python",
   "nbconvert_exporter": "python",
   "pygments_lexer": "ipython3",
   "version": "3.9.0"
  },
  "toc": {
   "base_numbering": 1,
   "nav_menu": {},
   "number_sections": true,
   "sideBar": true,
   "skip_h1_title": false,
   "title_cell": "Table of Contents",
   "title_sidebar": "Contents",
   "toc_cell": false,
   "toc_position": {},
   "toc_section_display": true,
   "toc_window_display": false
  }
 },
 "nbformat": 4,
 "nbformat_minor": 5
}
