{
 "cells": [
  {
   "cell_type": "code",
   "execution_count": null,
   "id": "d1b23a0a",
   "metadata": {},
   "outputs": [],
   "source": [
    "import torch\n",
    "import numpy as np\n",
    "import pandas as pd\n",
    "from torch.utils.data import DataLoader, TensorDataset\n",
    "from sklearn.model_selection import train_test_split"
   ]
  },
  {
   "cell_type": "code",
   "execution_count": 1,
   "id": "2d2c977c",
   "metadata": {},
   "outputs": [],
   "source": [
    "\n",
    " \n",
    "df = pd.read_csv('data/face_data.csv')\n",
    "n_persons = df['target'].nunique() \n",
    "X = np.array(df.drop('target', axis=1)) # 400 x 4096\n",
    "y = np.array(df['target'])\n",
    " \n",
    "test_size = 0.3\n",
    "X_train, X_test, y_train, y_test = train_test_split(X, y, test_size=test_size) # deafult test_size=0.25\n",
    " \n",
    "# prepare data for PyTorch Tensor\n",
    "X_train = torch.from_numpy(X_train).float() # convert to float tensor\n",
    "y_train = torch.from_numpy(y_train).float() # \n",
    "train_dataset = TensorDataset(X_train, y_train) # create your datset\n",
    "X_test = torch.from_numpy(X_test).float()\n",
    "y_test = torch.from_numpy(y_test).float()\n",
    "test_dataset = TensorDataset(X_test, y_test) # create your datset\n",
    " \n",
    "# create dataloader for PyTorch\n",
    "batch_size = 64 # 32, 64, 128, 256\n",
    "train_loader = DataLoader(train_dataset, batch_size=batch_size, shuffle=True) # convert to dataloader\n",
    "test_loader = DataLoader(test_dataset, batch_size=len(X_test), shuffle=False)"
   ]
  },
  {
   "cell_type": "code",
   "execution_count": null,
   "id": "3998f9c1",
   "metadata": {},
   "outputs": [],
   "source": []
  }
 ],
 "metadata": {
  "kernelspec": {
   "display_name": "Python 3 (ipykernel)",
   "language": "python",
   "name": "python3"
  },
  "language_info": {
   "codemirror_mode": {
    "name": "ipython",
    "version": 3
   },
   "file_extension": ".py",
   "mimetype": "text/x-python",
   "name": "python",
   "nbconvert_exporter": "python",
   "pygments_lexer": "ipython3",
   "version": "3.9.0"
  },
  "toc": {
   "base_numbering": 1,
   "nav_menu": {},
   "number_sections": true,
   "sideBar": true,
   "skip_h1_title": false,
   "title_cell": "Table of Contents",
   "title_sidebar": "Contents",
   "toc_cell": false,
   "toc_position": {},
   "toc_section_display": true,
   "toc_window_display": false
  }
 },
 "nbformat": 4,
 "nbformat_minor": 5
}
